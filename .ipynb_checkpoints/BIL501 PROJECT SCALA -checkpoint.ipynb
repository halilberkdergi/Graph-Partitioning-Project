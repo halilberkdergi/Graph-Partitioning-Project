{
 "cells": [
  {
   "cell_type": "markdown",
   "id": "respiratory-pendant",
   "metadata": {},
   "source": [
    "# BIL501 Project "
   ]
  },
  {
   "cell_type": "markdown",
   "id": "premier-batch",
   "metadata": {},
   "source": [
    "##### Halil Berk Dergi"
   ]
  },
  {
   "cell_type": "code",
   "execution_count": null,
   "id": "dynamic-seller",
   "metadata": {},
   "outputs": [],
   "source": [
    "import org.apache.spark._\n",
    "import org.apache.spark.graphx._\n",
    "// To make some of the examples work we will also need RDD\n",
    "import org.apache.spark.rdd.RDD\n",
    "import org.apache.spark.sql.functions._\n",
    "import org.apache.spark.sql.types._\n",
    "import org.apache.spark.sql.SparkSession\n",
    "import org.apache.log4j.Logger\n",
    "import org.apache.log4j.Level\n",
    "import org.apache.spark.SparkContext\n",
    "import org.apache.spark.SparkConf\n",
    "import scala.util.MurmurHash"
   ]
  },
  {
   "cell_type": "code",
   "execution_count": null,
   "id": "composite-wednesday",
   "metadata": {},
   "outputs": [],
   "source": [
    "sc.stop() // stop sparkcontext"
   ]
  },
  {
   "cell_type": "markdown",
   "id": "white-newport",
   "metadata": {},
   "source": [
    "Creating a new sparksession where master is spark://Ubuntu-HBD:7077. There is a master and there are 3 workers in sparksession which is configured with STANDALONE MODE."
   ]
  },
  {
   "cell_type": "code",
   "execution_count": 19,
   "id": "noticed-sarah",
   "metadata": {},
   "outputs": [
    {
     "data": {
      "text/plain": [
       "spark: org.apache.spark.sql.SparkSession = org.apache.spark.sql.SparkSession@4bb41b7b\n"
      ]
     },
     "execution_count": 19,
     "metadata": {},
     "output_type": "execute_result"
    }
   ],
   "source": [
    "val spark = SparkSession.builder\n",
    "     .master(\"spark://Ubuntu-HBD:7077\")\n",
    "     .appName(\"BIL501 Project\")\n",
    "     .getOrCreate()"
   ]
  },
  {
   "cell_type": "code",
   "execution_count": 13,
   "id": "several-florence",
   "metadata": {},
   "outputs": [],
   "source": [
    "sc.stop()"
   ]
  },
  {
   "cell_type": "markdown",
   "id": "convertible-recorder",
   "metadata": {},
   "source": [
    "Reading textfile which is exported from forusquare API."
   ]
  },
  {
   "cell_type": "code",
   "execution_count": 20,
   "id": "historic-school",
   "metadata": {},
   "outputs": [
    {
     "data": {
      "text/plain": [
       "venues: org.apache.spark.sql.Dataset[String] = [value: string]\n",
       "links: org.apache.spark.sql.Dataset[String] = [value: string]\n"
      ]
     },
     "execution_count": 20,
     "metadata": {},
     "output_type": "execute_result"
    }
   ],
   "source": [
    "val venues = spark.read.textFile(\"export_venues.csv\")\n",
    "val links = spark.read.textFile(\"export_links.csv\")"
   ]
  },
  {
   "cell_type": "code",
   "execution_count": 21,
   "id": "individual-diana",
   "metadata": {},
   "outputs": [
    {
     "name": "stdout",
     "output_type": "stream",
     "text": [
      "+--------------------+\n",
      "|               value|\n",
      "+--------------------+\n",
      "|4c0e115bc700c9b6c...|\n",
      "|4bed1e076e8c20a19...|\n",
      "|4ce9209e0f196dcbd...|\n",
      "+--------------------+\n",
      "only showing top 3 rows\n",
      "\n"
     ]
    }
   ],
   "source": [
    "venues.show(3)"
   ]
  },
  {
   "cell_type": "code",
   "execution_count": 22,
   "id": "contemporary-scott",
   "metadata": {},
   "outputs": [
    {
     "name": "stdout",
     "output_type": "stream",
     "text": [
      "+--------------------+\n",
      "|               value|\n",
      "+--------------------+\n",
      "|4c0e115bc700c9b6c...|\n",
      "|4c0e115bc700c9b6c...|\n",
      "|4c0e115bc700c9b6c...|\n",
      "+--------------------+\n",
      "only showing top 3 rows\n",
      "\n"
     ]
    }
   ],
   "source": [
    "links.show(3)"
   ]
  },
  {
   "cell_type": "markdown",
   "id": "honest-explanation",
   "metadata": {},
   "source": [
    "Defining class Graph"
   ]
  },
  {
   "cell_type": "code",
   "execution_count": 23,
   "id": "dramatic-yeast",
   "metadata": {
    "scrolled": true
   },
   "outputs": [
    {
     "data": {
      "text/plain": [
       "defined class Graph\n",
       "warning: previously defined object Graph is not a companion to class Graph.\n",
       "Companions must be defined together; you may wish to use :paste mode for this.\n"
      ]
     },
     "execution_count": 23,
     "metadata": {},
     "output_type": "execute_result"
    }
   ],
   "source": [
    "class Graph[VD, ED] (val vertices: VertexRDD[VD], val edges: EdgeRDD[ED])"
   ]
  },
  {
   "cell_type": "markdown",
   "id": "instant-convert",
   "metadata": {},
   "source": [
    "Defining class Venues"
   ]
  },
  {
   "cell_type": "code",
   "execution_count": 24,
   "id": "sought-board",
   "metadata": {},
   "outputs": [
    {
     "data": {
      "text/plain": [
       "defined class Venues\n"
      ]
     },
     "execution_count": 24,
     "metadata": {},
     "output_type": "execute_result"
    }
   ],
   "source": [
    "case class Venues(Name:String,lat:Float,lng:Float)\n"
   ]
  },
  {
   "cell_type": "code",
   "execution_count": 25,
   "id": "illegal-cookie",
   "metadata": {},
   "outputs": [
    {
     "data": {
      "text/plain": [
       "ayır: (line: String)(Long, Venues)\n"
      ]
     },
     "execution_count": 25,
     "metadata": {},
     "output_type": "execute_result"
    }
   ],
   "source": [
    "// the function used for creating venuesRDD.\n",
    "def ayır(line:String):(Long,Venues)={\n",
    "    // VertexID must be Long, so VenuesID is converted to Long from string.\n",
    "    val a = MurmurHash.stringHash(line.split(\",\")(0).toString)     \n",
    "    val b = line.split(\",\")(1).toString\n",
    "    val c = line.split(\",\")(2).toFloat\n",
    "    val d = line.split(\",\")(3).toFloat\n",
    "\n",
    "    \n",
    "    return (a, Venues(b,c,d))    \n",
    "}\n"
   ]
  },
  {
   "cell_type": "code",
   "execution_count": 27,
   "id": "presidential-baltimore",
   "metadata": {},
   "outputs": [
    {
     "data": {
      "text/plain": [
       "venuesRDD: org.apache.spark.rdd.RDD[(org.apache.spark.graphx.VertexId, Venues)] = MapPartitionsRDD[11] at map at <console>:51\n"
      ]
     },
     "execution_count": 27,
     "metadata": {},
     "output_type": "execute_result"
    }
   ],
   "source": [
    "val venuesRDD: RDD[(VertexId, Venues)] =  venues.rdd.map(ayır)"
   ]
  },
  {
   "cell_type": "code",
   "execution_count": 28,
   "id": "obvious-healthcare",
   "metadata": {},
   "outputs": [
    {
     "data": {
      "text/plain": [
       "res14: Array[(org.apache.spark.graphx.VertexId, Venues)] = Array((914172510,Venues(Anıtkabir,39.926785,32.83659)), (-2086253975,Venues(Middle East Technical University (Orta Doğu Teknik Üniversitesi),39.90006,32.788715)), (919849682,Venues(HD İskender,39.95,32.830822)))\n"
      ]
     },
     "execution_count": 28,
     "metadata": {},
     "output_type": "execute_result"
    }
   ],
   "source": [
    "venuesRDD.take(3)"
   ]
  },
  {
   "cell_type": "code",
   "execution_count": 30,
   "id": "naughty-hughes",
   "metadata": {},
   "outputs": [
    {
     "data": {
      "text/plain": [
       "linksRDD: org.apache.spark.rdd.RDD[org.apache.spark.graphx.Edge[Connection]] = MapPartitionsRDD[17] at map at <console>:49\n"
      ]
     },
     "execution_count": 30,
     "metadata": {},
     "output_type": "execute_result"
    }
   ],
   "source": [
    "type Connection = Float\n",
    "val linksRDD: RDD[Edge[Connection]] = links.rdd.map{ line => \n",
    "  val vs = line.split(\",\");\n",
    "  Edge(MurmurHash.stringHash(vs(0).toString), MurmurHash.stringHash(vs(1).toString), vs(2).toFloat)\n",
    "}"
   ]
  },
  {
   "cell_type": "markdown",
   "id": "christian-worry",
   "metadata": {},
   "source": [
    "### Creating VENUEs - GRAPH"
   ]
  },
  {
   "cell_type": "code",
   "execution_count": 31,
   "id": "acting-complexity",
   "metadata": {},
   "outputs": [
    {
     "data": {
      "text/plain": [
       "venuesgraph: org.apache.spark.graphx.Graph[Venues,Connection] = org.apache.spark.graphx.impl.GraphImpl@78da9acb\n"
      ]
     },
     "execution_count": 31,
     "metadata": {},
     "output_type": "execute_result"
    }
   ],
   "source": [
    "val venuesgraph = Graph(venuesRDD, linksRDD)"
   ]
  },
  {
   "cell_type": "markdown",
   "id": "specific-conflict",
   "metadata": {},
   "source": [
    "Distances between edges"
   ]
  },
  {
   "cell_type": "markdown",
   "id": "black-surrey",
   "metadata": {},
   "source": [
    "val facts: RDD[String] =\n",
    "  venuesgraph.triplets.map(triplet =>\n",
    "    triplet.srcAttr.Name + \" ile \" + triplet.dstAttr.Name+\" arasındaki mesafe \" + +triplet.attr + \" m.\" )\n",
    "facts.collect.foreach(println(_))"
   ]
  },
  {
   "cell_type": "markdown",
   "id": "cross-station",
   "metadata": {},
   "source": [
    "# PageRank"
   ]
  },
  {
   "cell_type": "markdown",
   "id": "exciting-afternoon",
   "metadata": {},
   "source": [
    "### 1) PartitioningStrategy = RandomVertexCut"
   ]
  },
  {
   "cell_type": "code",
   "execution_count": null,
   "id": "sealed-playlist",
   "metadata": {},
   "outputs": [],
   "source": [
    "venuesgraph.partitionBy(PartitionStrategy.RandomVertexCut)"
   ]
  },
  {
   "cell_type": "code",
   "execution_count": 34,
   "id": "white-lecture",
   "metadata": {},
   "outputs": [
    {
     "data": {
      "text/plain": [
       "ranks: org.apache.spark.graphx.VertexRDD[Double] = VertexRDDImpl[1047] at RDD at VertexRDD.scala:57\n"
      ]
     },
     "execution_count": 34,
     "metadata": {},
     "output_type": "execute_result"
    }
   ],
   "source": [
    "val ranks1 = venuesgraph.pageRank(0.0001).vertices"
   ]
  },
  {
   "cell_type": "code",
   "execution_count": 35,
   "id": "perfect-circle",
   "metadata": {},
   "outputs": [
    {
     "data": {
      "text/plain": [
       "res17: (org.apache.spark.graphx.VertexId, Double) = (2080198244,0.35519169581190246)\n"
      ]
     },
     "execution_count": 35,
     "metadata": {},
     "output_type": "execute_result"
    }
   ],
   "source": []
  },
  {
   "cell_type": "markdown",
   "id": "developmental-glossary",
   "metadata": {},
   "source": [
    "### 2) PartitioningStrategy = RandomVertexCut"
   ]
  },
  {
   "cell_type": "code",
   "execution_count": 56,
   "id": "enclosed-helicopter",
   "metadata": {},
   "outputs": [
    {
     "data": {
      "text/plain": [
       "ranks2: org.apache.spark.graphx.VertexRDD[Double] = VertexRDDImpl[3090] at RDD at VertexRDD.scala:57\n"
      ]
     },
     "execution_count": 56,
     "metadata": {},
     "output_type": "execute_result"
    }
   ],
   "source": [
    "venuesgraph.partitionBy(PartitionStrategy.RandomVertexCut)"
   ]
  },
  {
   "cell_type": "code",
   "execution_count": null,
   "id": "conservative-batman",
   "metadata": {},
   "outputs": [],
   "source": [
    "val ranks2 = venuesgraph.pageRank(0.0001).vertices"
   ]
  },
  {
   "cell_type": "code",
   "execution_count": null,
   "id": "literary-conditioning",
   "metadata": {},
   "outputs": [],
   "source": []
  },
  {
   "cell_type": "markdown",
   "id": "reported-perth",
   "metadata": {},
   "source": [
    "### 3) PartitioningStrategy = RandomVertexCut"
   ]
  },
  {
   "cell_type": "code",
   "execution_count": null,
   "id": "consolidated-aggregate",
   "metadata": {},
   "outputs": [],
   "source": [
    "venuesgraph.partitionBy(PartitionStrategy.RandomVertexCut)"
   ]
  },
  {
   "cell_type": "code",
   "execution_count": null,
   "id": "running-handle",
   "metadata": {},
   "outputs": [],
   "source": [
    "val ranks2 = venuesgraph.pageRank(0.0001).vertices"
   ]
  },
  {
   "cell_type": "code",
   "execution_count": null,
   "id": "composite-devices",
   "metadata": {},
   "outputs": [],
   "source": []
  },
  {
   "cell_type": "markdown",
   "id": "lesser-pressure",
   "metadata": {},
   "source": [
    "### 4) PartitioningStrategy = RandomVertexCut"
   ]
  },
  {
   "cell_type": "code",
   "execution_count": null,
   "id": "bizarre-yellow",
   "metadata": {},
   "outputs": [],
   "source": [
    "venuesgraph.partitionBy(PartitionStrategy.RandomVertexCut)"
   ]
  },
  {
   "cell_type": "code",
   "execution_count": null,
   "id": "hybrid-condition",
   "metadata": {},
   "outputs": [],
   "source": [
    "val ranks2 = venuesgraph.pageRank(0.0001).vertices"
   ]
  },
  {
   "cell_type": "code",
   "execution_count": null,
   "id": "minus-seventh",
   "metadata": {},
   "outputs": [],
   "source": []
  },
  {
   "cell_type": "code",
   "execution_count": 78,
   "id": "drawn-behavior",
   "metadata": {},
   "outputs": [
    {
     "data": {
      "text/plain": [
       "ranksByUsername: org.apache.spark.rdd.RDD[(String, Double)] = MapPartitionsRDD[3127] at sortBy at <console>:52\n"
      ]
     },
     "execution_count": 78,
     "metadata": {},
     "output_type": "execute_result"
    }
   ],
   "source": [
    "val ranksByUsername = venuesRDD.join(ranks2).map{\n",
    "  case (x,(y,z)) => (y.Name, z)\n",
    "}\n",
    ".sortBy(_._2,ascending=false)"
   ]
  },
  {
   "cell_type": "code",
   "execution_count": null,
   "id": "elementary-supply",
   "metadata": {},
   "outputs": [],
   "source": []
  },
  {
   "cell_type": "code",
   "execution_count": 79,
   "id": "african-project",
   "metadata": {},
   "outputs": [
    {
     "name": "stdout",
     "output_type": "stream",
     "text": [
      "(Kızılay Square (Kızılay Meydanı),13.599011290335826)\n",
      "(ANKAmall,8.987377808294202)\n",
      "(Kızılay AVM,6.220624864775678)\n",
      "(Kahveci Hacıbaba,6.110454062983242)\n",
      "(Güvenpark,5.9162318606960635)\n",
      "(Ezgi Cafe,4.997005490396357)\n",
      "(Seğmenler Park (Seğmenler Parkı),4.723452796375306)\n",
      "(Kentpark,4.695524529050263)\n",
      "(Kuğulu Park,4.184787966983499)\n",
      "(Cepa,3.7242873091357063)\n",
      "(Özsüt,3.568926305450556)\n",
      "(Starbucks,3.568926305450556)\n",
      "(Cinemaximum,3.568926305450556)\n",
      "(Armada,3.47051621675922)\n",
      "(Timboo Cafe,3.408143591428786)\n",
      "(Starbucks,3.3908664922666434)\n",
      "(IF Performance Hall,2.9872315463589922)\n",
      "(Brasserie Bomonti,2.7468999206193314)\n",
      "(Prestige Cinema,2.598862531486412)\n",
      "(Passage,2.5238787103009153)\n",
      "(Timboo Cafe,2.4575423267767196)\n",
      "(Cinemaximum,2.375578341355078)\n",
      "(Devrez,2.3198514379890938)\n",
      "(Starbucks,2.313312289061767)\n",
      "(HD İskender,2.30588720342222)\n",
      "(Starbucks,2.234574316719174)\n",
      "(Mado,2.121430792538547)\n",
      "(Blackk Ankara,1.7319641717211292)\n",
      "(Karum,1.7088269412695063)\n",
      "(Leman Kültür,1.6376355436433265)\n",
      "(Mickey's by Las Chicas,1.6111010609003447)\n",
      "(Gordion,1.5391061279603078)\n",
      "(365,1.4642315401449946)\n",
      "(Marco Pascha,1.3020011820347173)\n",
      "(Starbucks,1.301139579730174)\n",
      "(Starbucks,1.2461931796966472)\n",
      "(Turuncu Cafe Pub,1.2056704624594319)\n",
      "(BARikaT #1538,1.1871001963919992)\n",
      "(Kahveci Hacıbaba,1.1745406011413062)\n",
      "(Starbucks,1.1668371311022834)\n",
      "(Toolbar,1.1403074205357047)\n",
      "(Rolling Ball Bowling,1.1243924177230156)\n",
      "(Cookshop,1.0915679168251118)\n",
      "(Cinemaximum,1.0915679168251118)\n",
      "(Starbucks,1.0915679168251118)\n",
      "(Telwe,1.0847908841499878)\n",
      "(Taurus,1.060743362037201)\n",
      "(BlackStation Pub,1.0581485382049756)\n",
      "(Eskiyeni,1.0541369955668325)\n",
      "(Starbucks,1.02974985031245)\n",
      "(Pool Pub,0.9946324603699778)\n",
      "(Kahve Dünyası,0.9929522248734426)\n",
      "(Cinemaximum,0.979496310588744)\n",
      "(Big Chefs,0.9743273808326338)\n",
      "(Atakule,0.9504893240106543)\n",
      "(Bla Bla Bistro Pub,0.9447764833917554)\n",
      "(Kıtır,0.9389649222615084)\n",
      "(Newcastle,0.9312041595303773)\n",
      "(Sunshine,0.8875756756494507)\n",
      "(Yıldız Aspava,0.8772227212067104)\n",
      "(Next Level,0.8701607181686579)\n",
      "(Öküz,0.8566186684222411)\n",
      "(Lozan Parkı,0.8466850764042504)\n",
      "(ODTÜ Tenis Kortları,0.8407828191855329)\n",
      "(Huqqa,0.823700803570197)\n",
      "(Puhu,0.8191602584940514)\n",
      "(Pool Pub,0.8131280310884577)\n",
      "(Hmbrgr - Homemade Burgers,0.8040469009561411)\n",
      "(Kahve Dünyası,0.782834464169739)\n",
      "(ANKAmall Teras,0.7780519606389263)\n",
      "(MACFit,0.7780519606389262)\n",
      "(Keifi,0.7736385317464778)\n",
      "(Köroğlu İşkembecisi,0.77052713792992)\n",
      "(Cinemarine,0.7626126324573135)\n",
      "(Starbucks,0.7626126324573135)\n",
      "(Liva Pastanesi,0.7626126324573135)\n",
      "(Susam,0.7570013001394773)\n",
      "(Kite Ankara,0.7523980187630699)\n",
      "(Gelato Ice & Caffé,0.7507275565752847)\n",
      "(Çatı Cafe,0.7480087768472049)\n",
      "(Most Life Club,0.747790435563139)\n",
      "(Beykoz Çorbacısı,0.7393437945452351)\n",
      "(Starbucks,0.7384195407997782)\n",
      "(Emirgan Sütiş,0.73234733703398)\n",
      "(Twister,0.6912890467911182)\n",
      "(Park Ehlikeyf,0.6911473751122506)\n",
      "(Atatürk Forest Farm (Atatürk Orman Çiftliği),0.6908143856371214)\n",
      "(Big Chefs,0.6815417690424672)\n",
      "(Big Chefs,0.6539655213664142)\n",
      "(Cinemaximum,0.6539655213664142)\n",
      "(Müjgan,0.6309081052105564)\n",
      "(Dikmen Vadisi,0.6189210944999973)\n",
      "(Mado,0.6131335176865634)\n",
      "(Meşhur Özçelik Aspava,0.6008074541928343)\n",
      "(Meşhur Mithatpaşa İşkembe & Kebapçısı,0.6003931995489986)\n",
      "(Dürüm Aspava,0.5840648560624944)\n",
      "(MACFit,0.5646007533358224)\n",
      "(Starbucks,0.5617658015310428)\n",
      "(Gençlik Parkı,0.5583299267887343)\n",
      "(Liva Pastanesi,0.5482136610623712)\n",
      "(Botanical Park (Botanik Parkı),0.5462601095654236)\n",
      "(Starbucks,0.5415857134336337)\n",
      "(Kocatepe Kahve Evi,0.5410312042878376)\n",
      "(ZeuS,0.533737303654191)\n",
      "(ODTÜ Çarşı,0.5285786840043236)\n",
      "(Arcadium,0.5099409340276292)\n",
      "(Starbucks,0.5089510622491205)\n",
      "(Timboo Cafe,0.5089510622491205)\n",
      "(Koliba,0.5075380140498169)\n",
      "(Elizinn,0.5029046675889262)\n",
      "(Kahve Dünyası,0.4950653902421142)\n",
      "(HD İskender,0.4825028506769904)\n",
      "(Barbella Cafe-Bar,0.4796303729812123)\n",
      "(Central Ankara,0.45844618374375584)\n",
      "(Doğata,0.45745489768221875)\n",
      "(Profesör Kokoreç,0.4528284888234882)\n",
      "(Mısır Cafe,0.44974620277479077)\n",
      "(MACFit,0.44535068041338294)\n",
      "(Luppa,0.44535068041338294)\n",
      "(City Hotel,0.4361479750776155)\n",
      "(Newcastle,0.4358714158404929)\n",
      "(Vakko,0.4350189739230474)\n",
      "(D&R,0.4341476522924319)\n",
      "(Ankara Şehir Kulübü,0.43338344625014463)\n",
      "(ODTÜ Black Ball,0.4314102412794957)\n",
      "(El Paso,0.43061435814867727)\n",
      "(La Gioia Cafe Brasserie,0.41929965811589415)\n",
      "(Park Center,0.41553552782119463)\n",
      "(Otto Lounge,0.4142692534311986)\n",
      "(Kurtuluş Parkı,0.4119614606608014)\n",
      "(Big Baker,0.40186745567539367)\n",
      "(Up Lost Pub & Performance,0.3962232270582907)\n",
      "(Ali Baba,0.3956127009496879)\n",
      "(Narquilla,0.3880629897830983)\n",
      "(Corvus,0.3875318631527638)\n",
      "(Köroğlu İşkembecisi,0.3708079661704748)\n",
      "(Albüm,0.3700616313015475)\n",
      "(The Bigos,0.3696819073551935)\n",
      "(Luigi's Ristorante Bar,0.3611049214931399)\n",
      "(Balkon Nargile,0.36041783821627954)\n",
      "(MACFit,0.35690181923928666)\n",
      "(Öveçler Vadisi,0.35519169581190246)\n",
      "(Escape,0.3547463936874291)\n",
      "(HD İskender,0.3516622623891127)\n",
      "(Ankara Arena,0.3514634266544336)\n",
      "(Nefes Bar,0.35052258701752403)\n",
      "(Bauhaus,0.3463779704674703)\n",
      "(Doyurucu,0.34157848341165997)\n",
      "(Migros,0.3376834190443003)\n",
      "(Mado,0.33529827610978813)\n",
      "(Arcadium Sinemaları,0.3321005241716277)\n",
      "(ÜstKat,0.3309435228296666)\n",
      "(Tren Ankara,0.32923560979385325)\n",
      "(Kahveci Hacıbaba,0.3247514594261228)\n",
      "(ODTÜ Kocatepe Kahve Evi,0.32222708849231013)\n",
      "(Klarnet Sahne,0.3169669605459807)\n",
      "(Café des Cafés,0.3130108857255328)\n",
      "(6:45 Kaybedenler Kulübü,0.3119615162228705)\n",
      "(Tchibo,0.3080039756100909)\n",
      "(Fox,0.30449757336958355)\n",
      "(Mascha,0.30449757336958355)\n",
      "(Lunapark,0.30415274458354796)\n",
      "(Ehlikeyf Plus,0.30297541445621146)\n",
      "(Vamos Sports Complex,0.30098400327242814)\n",
      "(Bolu Mangalzade,0.2984149666137905)\n",
      "(Hayat Bi Geyik,0.2950865211038969)\n",
      "(Tandoğan Square (Tandoğan Meydanı),0.2934496541918046)\n",
      "(Liva Pastanesi,0.29131102398819086)\n",
      "(Şençam Köftecisi,0.2887513458441563)\n",
      "(Özdemir Kokoreç,0.2887513458441563)\n",
      "(Godiva,0.2825141967480545)\n",
      "(Loop,0.281145136758163)\n",
      "(Meşhur Tavacı Recep Usta,0.2765211440040802)\n",
      "(Starbucks,0.27060851217401793)\n",
      "(Atatürk Kültür Merkezi,0.27034690676828255)\n",
      "(Bahçemiz,0.2668189914275375)\n",
      "(Kocatepe Kahve Evi,0.26493535159678705)\n",
      "(Adana Sofrası,0.26397666226249705)\n",
      "(Urfalı Hacı Mehmet Kebap,0.26397666226249705)\n",
      "(Mado,0.25803100598449147)\n",
      "(Timboo Cafe,0.25803100598449147)\n",
      "(Karikatür Bi Kafe,0.2575409320020591)\n",
      "(Budakaltı,0.24542316658331537)\n",
      "(Kahve Dünyası,0.2451111935590328)\n",
      "(Makara,0.24467661963308823)\n",
      "(Louise Brasserie & Lounge,0.24258460673035143)\n",
      "(Nusr-Et Steakhouse,0.24258460673035143)\n",
      "(Meşhur Özçelik Aspava,0.241536742774104)\n",
      "(Nefti,0.2396411702300473)\n",
      "(Nil Bar,0.23865478505830798)\n",
      "(Aslanlı Yol,0.23644150605477743)\n",
      "(OT,0.23414392230076292)\n",
      "(Ahmet Arif Parkı,0.23168262173241666)\n",
      "(Victoria,0.23168262173241666)\n",
      "(Checkpoint Terrace,0.23161968635828892)\n",
      "(Salata,0.23161968635828892)\n",
      "(May 19 Stadium (19 Mayıs Stadyumu),0.2310875352135541)\n",
      "(Hasbihal Yıldız,0.227386491388557)\n",
      "(Angora Pastanesi,0.227386491388557)\n",
      "(Figen Pastaneleri,0.22649628524283863)\n",
      "(Pixel,0.2243301020860917)\n",
      "(H&M,0.22365228986543623)\n",
      "(Nostalji Cafe,0.2230490830362687)\n",
      "(Kahve Adası,0.2214269898024059)\n",
      "(Kahveci Paşazade,0.21634524009631761)\n",
      "(Gaga Manjero,0.2125258525494495)\n",
      "(Atatürk ve Kurtuluş Savaşı Müzesi,0.21154043230446806)\n",
      "(Meto Dondurma,0.21068892430009015)\n",
      "(Combo Lunch,0.21068892430009015)\n",
      "(Hudaverdi Pasta&Bistro,0.21068892430009015)\n",
      "(Kırık Oklava,0.20979271475012742)\n",
      "(Zara,0.20931284263552133)\n",
      "(Cafe Bien,0.20741467779342312)\n",
      "(Umumi,0.20652162876690683)\n",
      "(Siyah Beyaz,0.20652162876690683)\n",
      "(Anıtkabir,0.171353648396179)\n",
      "(Middle East Technical University (Orta Doğu Teknik Üniversitesi),0.171353648396179)\n"
     ]
    }
   ],
   "source": [
    "println(ranksByUsername.collect().mkString(\"\\n\"))"
   ]
  },
  {
   "cell_type": "code",
   "execution_count": 2,
   "id": "supposed-tulsa",
   "metadata": {},
   "outputs": [
    {
     "name": "stdout",
     "output_type": "stream",
     "text": [
      "Reset css and font defaults in:\r\n",
      "/home/halilberkdergi/.jupyter/custom &\r\n",
      "/home/halilberkdergi/.local/share/jupyter/nbextensions\r\n",
      "\n"
     ]
    }
   ],
   "source": []
  },
  {
   "cell_type": "code",
   "execution_count": null,
   "id": "attempted-graduation",
   "metadata": {},
   "outputs": [],
   "source": []
  },
  {
   "cell_type": "code",
   "execution_count": null,
   "id": "signed-ranking",
   "metadata": {},
   "outputs": [],
   "source": []
  }
 ],
 "metadata": {
  "kernelspec": {
   "display_name": "spylon-kernel",
   "language": "scala",
   "name": "spylon-kernel"
  },
  "language_info": {
   "codemirror_mode": "text/x-scala",
   "file_extension": ".scala",
   "help_links": [
    {
     "text": "MetaKernel Magics",
     "url": "https://metakernel.readthedocs.io/en/latest/source/README.html"
    }
   ],
   "mimetype": "text/x-scala",
   "name": "scala",
   "pygments_lexer": "scala",
   "version": "0.4.1"
  }
 },
 "nbformat": 4,
 "nbformat_minor": 5
}
