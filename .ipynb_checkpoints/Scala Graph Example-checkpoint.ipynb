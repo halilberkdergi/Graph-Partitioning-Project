{
 "cells": [
  {
   "cell_type": "code",
   "execution_count": 9,
   "id": "comparable-microwave",
   "metadata": {},
   "outputs": [
    {
     "data": {
      "text/plain": [
       "import org.apache.spark._\n",
       "import org.apache.spark.graphx._\n",
       "import org.apache.spark.rdd.RDD\n",
       "import org.apache.spark.sql.functions._\n",
       "import org.apache.spark.sql.types._\n",
       "import org.apache.spark.sql.SparkSession\n",
       "import org.apache.log4j.Logger\n",
       "import org.apache.log4j.Level\n",
       "import org.apache.spark.SparkContext\n",
       "import org.apache.spark.SparkConf\n"
      ]
     },
     "execution_count": 9,
     "metadata": {},
     "output_type": "execute_result"
    }
   ],
   "source": [
    "import org.apache.spark._\n",
    "import org.apache.spark.graphx._\n",
    "// To make some of the examples work we will also need RDD\n",
    "import org.apache.spark.rdd.RDD\n",
    "import org.apache.spark.sql.functions._\n",
    "import org.apache.spark.sql.types._\n",
    "import org.apache.spark.sql.SparkSession\n",
    "import org.apache.log4j.Logger\n",
    "import org.apache.log4j.Level\n",
    "import org.apache.spark.SparkContext\n",
    "import org.apache.spark.SparkConf"
   ]
  },
  {
   "cell_type": "code",
   "execution_count": 16,
   "id": "several-florence",
   "metadata": {},
   "outputs": [],
   "source": [
    "sc.stop()"
   ]
  },
  {
   "cell_type": "code",
   "execution_count": 121,
   "id": "efficient-classics",
   "metadata": {},
   "outputs": [
    {
     "data": {
      "text/plain": [
       "import scala.util.MurmurHash\n"
      ]
     },
     "execution_count": 121,
     "metadata": {},
     "output_type": "execute_result"
    }
   ],
   "source": [
    "import scala.util.MurmurHash"
   ]
  },
  {
   "cell_type": "code",
   "execution_count": 17,
   "id": "adverse-stroke",
   "metadata": {},
   "outputs": [
    {
     "data": {
      "text/plain": [
       "spark: org.apache.spark.sql.SparkSession = org.apache.spark.sql.SparkSession@1b78a3d\n"
      ]
     },
     "execution_count": 17,
     "metadata": {},
     "output_type": "execute_result"
    }
   ],
   "source": [
    "val spark = SparkSession.builder()\n",
    ".appName(\"Dataframegiris\")\n",
    ".master(\"local[4]\")\n",
    ".config(\"spark.driver.memory\",\"2g\")\n",
    ".config(\"spark.executor.memory\",\"4g\")\n",
    ".getOrCreate()"
   ]
  },
  {
   "cell_type": "code",
   "execution_count": 155,
   "id": "historic-school",
   "metadata": {},
   "outputs": [
    {
     "data": {
      "text/plain": [
       "venues: org.apache.spark.sql.Dataset[String] = [value: string]\n",
       "links: org.apache.spark.sql.Dataset[String] = [value: string]\n"
      ]
     },
     "execution_count": 155,
     "metadata": {},
     "output_type": "execute_result"
    }
   ],
   "source": [
    "val venues = spark.read.textFile(\"export_venues.csv\")\n",
    "val links = spark.read.textFile(\"export_links.csv\")"
   ]
  },
  {
   "cell_type": "code",
   "execution_count": 156,
   "id": "individual-diana",
   "metadata": {},
   "outputs": [
    {
     "name": "stdout",
     "output_type": "stream",
     "text": [
      "+--------------------+\n",
      "|               value|\n",
      "+--------------------+\n",
      "|4c0e115bc700c9b6c...|\n",
      "|4bed1e076e8c20a19...|\n",
      "|4ce9209e0f196dcbd...|\n",
      "+--------------------+\n",
      "only showing top 3 rows\n",
      "\n"
     ]
    }
   ],
   "source": [
    "venues.show(3)"
   ]
  },
  {
   "cell_type": "code",
   "execution_count": 157,
   "id": "contemporary-scott",
   "metadata": {},
   "outputs": [
    {
     "name": "stdout",
     "output_type": "stream",
     "text": [
      "+--------------------+\n",
      "|               value|\n",
      "+--------------------+\n",
      "|4c0e115bc700c9b6c...|\n",
      "|4c0e115bc700c9b6c...|\n",
      "|4c0e115bc700c9b6c...|\n",
      "+--------------------+\n",
      "only showing top 3 rows\n",
      "\n"
     ]
    }
   ],
   "source": [
    "links.show(3)"
   ]
  },
  {
   "cell_type": "code",
   "execution_count": 83,
   "id": "dramatic-yeast",
   "metadata": {},
   "outputs": [
    {
     "data": {
      "text/plain": [
       "defined class Graph\n",
       "warning: previously defined object Graph is not a companion to class Graph.\n",
       "Companions must be defined together; you may wish to use :paste mode for this.\n"
      ]
     },
     "execution_count": 83,
     "metadata": {},
     "output_type": "execute_result"
    }
   ],
   "source": [
    "class Graph[VD, ED] (val vertices: VertexRDD[VD], val edges: EdgeRDD[ED])"
   ]
  },
  {
   "cell_type": "code",
   "execution_count": 107,
   "id": "sought-board",
   "metadata": {},
   "outputs": [
    {
     "data": {
      "text/plain": [
       "defined class Venues\n"
      ]
     },
     "execution_count": 107,
     "metadata": {},
     "output_type": "execute_result"
    }
   ],
   "source": [
    "case class Venues(Name:String,lat:Float,lng:Float)\n"
   ]
  },
  {
   "cell_type": "code",
   "execution_count": 147,
   "id": "illegal-cookie",
   "metadata": {},
   "outputs": [
    {
     "data": {
      "text/plain": [
       "ayır: (line: String)(Long, Venues)\n"
      ]
     },
     "execution_count": 147,
     "metadata": {},
     "output_type": "execute_result"
    }
   ],
   "source": [
    "def ayır(line:String):(Long,Venues)={\n",
    "    val a = MurmurHash.stringHash(line.split(\",\")(0).toString)\n",
    "    \n",
    "    val b = line.split(\",\")(1).toString\n",
    "    val c = line.split(\",\")(2).toFloat\n",
    "    val d = line.split(\",\")(3).toFloat\n",
    "\n",
    "    \n",
    "    return (a, Venues(b,c,d))    \n",
    "}\n"
   ]
  },
  {
   "cell_type": "code",
   "execution_count": 146,
   "id": "special-benchmark",
   "metadata": {},
   "outputs": [
    {
     "ename": "<console>",
     "evalue": "64: error: type mismatch;",
     "output_type": "error",
     "traceback": [
      "<console>:64: error: type mismatch;",
      " found   : (String, Float, Float)",
      " required: Venues",
      "       .map(line => (MurmurHash.stringHash(line(0).toString),(line(1).toString,line(2).toFloat,line(3).toFloat)) )",
      "                                                             ^",
      ""
     ]
    }
   ],
   "source": [
    "//val venuesRDD: RDD[(VertexId, Venues)] = venues.rdd.map(line => line.split(\",\"))\n",
    "//.map(line => (MurmurHash.stringHash(line(0).toString),(line(1).toString,line(2).toFloat,line(3).toFloat)) )"
   ]
  },
  {
   "cell_type": "code",
   "execution_count": 148,
   "id": "presidential-baltimore",
   "metadata": {},
   "outputs": [
    {
     "data": {
      "text/plain": [
       "venuesRDD: org.apache.spark.rdd.RDD[(org.apache.spark.graphx.VertexId, Venues)] = MapPartitionsRDD[45] at map at <console>:65\n"
      ]
     },
     "execution_count": 148,
     "metadata": {},
     "output_type": "execute_result"
    }
   ],
   "source": [
    "val venuesRDD: RDD[(VertexId, Venues)] =  venues.rdd.map(ayır)"
   ]
  },
  {
   "cell_type": "code",
   "execution_count": 152,
   "id": "obvious-healthcare",
   "metadata": {},
   "outputs": [
    {
     "data": {
      "text/plain": [
       "res22: Array[(org.apache.spark.graphx.VertexId, Venues)] = Array((914172510,Venues(Anıtkabir,39.926785,32.83659)), (-2086253975,Venues(Middle East Technical University (Orta Doğu Teknik Üniversitesi),39.90006,32.788715)), (919849682,Venues(HD İskender,39.95,32.830822)))\n"
      ]
     },
     "execution_count": 152,
     "metadata": {},
     "output_type": "execute_result"
    }
   ],
   "source": [
    "venuesRDD.take(3)"
   ]
  },
  {
   "cell_type": "code",
   "execution_count": 159,
   "id": "premium-audience",
   "metadata": {},
   "outputs": [
    {
     "data": {
      "text/plain": [
       "defined type alias Connection\n"
      ]
     },
     "execution_count": 159,
     "metadata": {},
     "output_type": "execute_result"
    }
   ],
   "source": [
    "type Connection = Float"
   ]
  },
  {
   "cell_type": "code",
   "execution_count": 165,
   "id": "naughty-hughes",
   "metadata": {},
   "outputs": [
    {
     "data": {
      "text/plain": [
       "linksRDD: org.apache.spark.rdd.RDD[org.apache.spark.graphx.Edge[Connection]] = MapPartitionsRDD[57] at map at <console>:63\n"
      ]
     },
     "execution_count": 165,
     "metadata": {},
     "output_type": "execute_result"
    }
   ],
   "source": [
    "val linksRDD: RDD[Edge[Connection]] = links.rdd.map{ line => \n",
    "  val vs = line.split(\",\");\n",
    "  Edge(MurmurHash.stringHash(vs(0).toString), MurmurHash.stringHash(vs(1).toString), vs(2).toFloat)\n",
    "}"
   ]
  },
  {
   "cell_type": "code",
   "execution_count": 167,
   "id": "acting-complexity",
   "metadata": {},
   "outputs": [
    {
     "data": {
      "text/plain": [
       "venuesgraph: org.apache.spark.graphx.Graph[Venues,Connection] = org.apache.spark.graphx.impl.GraphImpl@6769e3b1\n"
      ]
     },
     "execution_count": 167,
     "metadata": {},
     "output_type": "execute_result"
    }
   ],
   "source": [
    "val venuesgraph = Graph(venuesRDD, linksRDD)"
   ]
  },
  {
   "cell_type": "code",
   "execution_count": 175,
   "id": "confidential-management",
   "metadata": {},
   "outputs": [
    {
     "data": {
      "text/plain": [
       "res32: Option[String] = Some(http://192.168.0.15:4040)\n"
      ]
     },
     "execution_count": 175,
     "metadata": {},
     "output_type": "execute_result"
    }
   ],
   "source": [
    "sc.uiWebUrl"
   ]
  },
  {
   "cell_type": "code",
   "execution_count": null,
   "id": "advanced-impossible",
   "metadata": {},
   "outputs": [],
   "source": []
  },
  {
   "cell_type": "code",
   "execution_count": null,
   "id": "white-lecture",
   "metadata": {},
   "outputs": [],
   "source": []
  },
  {
   "cell_type": "code",
   "execution_count": null,
   "id": "perfect-circle",
   "metadata": {},
   "outputs": [],
   "source": []
  },
  {
   "cell_type": "code",
   "execution_count": null,
   "id": "ancient-boards",
   "metadata": {},
   "outputs": [],
   "source": []
  },
  {
   "cell_type": "code",
   "execution_count": null,
   "id": "enclosed-helicopter",
   "metadata": {},
   "outputs": [],
   "source": []
  },
  {
   "cell_type": "code",
   "execution_count": null,
   "id": "clinical-husband",
   "metadata": {},
   "outputs": [],
   "source": []
  },
  {
   "cell_type": "code",
   "execution_count": null,
   "id": "drawn-behavior",
   "metadata": {},
   "outputs": [],
   "source": []
  },
  {
   "cell_type": "code",
   "execution_count": null,
   "id": "african-project",
   "metadata": {},
   "outputs": [],
   "source": []
  },
  {
   "cell_type": "code",
   "execution_count": null,
   "id": "unlike-hampton",
   "metadata": {},
   "outputs": [],
   "source": []
  },
  {
   "cell_type": "code",
   "execution_count": null,
   "id": "supposed-tulsa",
   "metadata": {},
   "outputs": [],
   "source": []
  },
  {
   "cell_type": "code",
   "execution_count": 4,
   "id": "timely-tourism",
   "metadata": {},
   "outputs": [
    {
     "data": {
      "text/plain": [
       "defined class Graph\n",
       "warning: previously defined object Graph is not a companion to class Graph.\n",
       "Companions must be defined together; you may wish to use :paste mode for this.\n"
      ]
     },
     "execution_count": 4,
     "metadata": {},
     "output_type": "execute_result"
    }
   ],
   "source": [
    "class Graph[VD, ED](\n",
    "  val vertices: VertexRDD[VD],\n",
    "  val edges: EdgeRDD[ED]) {\n",
    "}"
   ]
  },
  {
   "cell_type": "code",
   "execution_count": 7,
   "id": "upset-account",
   "metadata": {},
   "outputs": [
    {
     "name": "stdout",
     "output_type": "stream",
     "text": [
      "rxin is the collab of jgonzal\n",
      "franklin is the advisor of rxin\n",
      "istoica is the colleague of franklin\n",
      "franklin is the pi of jgonzal\n",
      "peter is the student of John Doe\n",
      "franklin is the colleague of John Doe\n",
      "(2,(istoica,prof))\n",
      "(3,(rxin,student))\n",
      "(4,(peter,student))\n",
      "(5,(franklin,prof))\n",
      "(7,(jgonzal,postdoc))\n",
      "rxin is the collab of jgonzal\n",
      "franklin is the advisor of rxin\n",
      "istoica is the colleague of franklin\n",
      "franklin is the pi of jgonzal\n"
     ]
    },
    {
     "data": {
      "text/plain": [
       "defined class VertexProperty\n",
       "defined class UserProperty\n",
       "defined class ProductProperty\n",
       "users: org.apache.spark.rdd.RDD[(org.apache.spark.graphx.VertexId, (String, String))] = ParallelCollectionRDD[0] at parallelize at <console>:28\n",
       "relationships: org.apache.spark.rdd.RDD[org.apache.spark.graphx.Edge[String]] = ParallelCollectionRDD[1] at parallelize at <console>:33\n",
       "defaultUser: (String, String) = (John Doe,Missing)\n",
       "graph: org.apache.spark.graphx.Graph[(String, String),String] = org.apache.spark.graphx.impl.GraphImpl@796ee64a\n",
       "validGraph: org.apache.spark.graphx.Graph[(String, String),String] = org.apache.spark.graphx.impl.GraphImpl@1af3d9ec\n"
      ]
     },
     "execution_count": 7,
     "metadata": {},
     "output_type": "execute_result"
    }
   ],
   "source": [
    "class VertexProperty()\n",
    "case class UserProperty(val name: String) extends VertexProperty\n",
    "case class ProductProperty(val name: String, val price: Double) extends VertexProperty\n",
    "// The graph might then have the type:\n",
    "\n",
    "// Create an RDD for the vertices\n",
    "val users: RDD[(VertexId, (String, String))] =\n",
    "  sc.parallelize(Seq((3L, (\"rxin\", \"student\")), (7L, (\"jgonzal\", \"postdoc\")),\n",
    "                       (5L, (\"franklin\", \"prof\")), (2L, (\"istoica\", \"prof\")),\n",
    "                       (4L, (\"peter\", \"student\"))))\n",
    "// Create an RDD for edges\n",
    "val relationships: RDD[Edge[String]] =\n",
    "  sc.parallelize(Seq(Edge(3L, 7L, \"collab\"),    Edge(5L, 3L, \"advisor\"),\n",
    "                       Edge(2L, 5L, \"colleague\"), Edge(5L, 7L, \"pi\"),\n",
    "                       Edge(4L, 0L, \"student\"),   Edge(5L, 0L, \"colleague\")))\n",
    "// Define a default user in case there are relationship with missing user\n",
    "val defaultUser = (\"John Doe\", \"Missing\")\n",
    "// Build the initial Graph\n",
    "val graph = Graph(users, relationships, defaultUser)\n",
    "// Notice that there is a user 0 (for which we have no information) connected to users\n",
    "// 4 (peter) and 5 (franklin).\n",
    "graph.triplets.map(\n",
    "  triplet => triplet.+ \" is the \" + triplet.attr + \" of \" + triplet.dstAttr._1\n",
    ").collect.foreach(println(_))\n",
    "// Remove missing vertices as well as the edges to connected to them\n",
    "val validGraph = graph.subgraph(vpred = (id, attr) => attr._2 != \"Missing\")\n",
    "// The valid subgraph will disconnect users 4 and 5 by removing user 0\n",
    "validGraph.vertices.collect.foreach(println(_))\n",
    "validGraph.triplets.map(\n",
    "  triplet => triplet.srcAttr._1 + \" is the \" + triplet.attr + \" of \" + triplet.dstAttr._1\n",
    ").collect.foreach(println(_))"
   ]
  },
  {
   "cell_type": "code",
   "execution_count": null,
   "id": "signed-ranking",
   "metadata": {},
   "outputs": [],
   "source": []
  }
 ],
 "metadata": {
  "kernelspec": {
   "display_name": "spylon-kernel",
   "language": "scala",
   "name": "spylon-kernel"
  },
  "language_info": {
   "codemirror_mode": "text/x-scala",
   "file_extension": ".scala",
   "help_links": [
    {
     "text": "MetaKernel Magics",
     "url": "https://metakernel.readthedocs.io/en/latest/source/README.html"
    }
   ],
   "mimetype": "text/x-scala",
   "name": "scala",
   "pygments_lexer": "scala",
   "version": "0.4.1"
  }
 },
 "nbformat": 4,
 "nbformat_minor": 5
}
