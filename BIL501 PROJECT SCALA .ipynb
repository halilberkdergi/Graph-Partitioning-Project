{
 "cells": [
  {
   "cell_type": "markdown",
   "id": "answering-theater",
   "metadata": {},
   "source": [
    "# BIL501 Project "
   ]
  },
  {
   "cell_type": "markdown",
   "id": "exclusive-grace",
   "metadata": {},
   "source": [
    "##### Halil Berk Dergi"
   ]
  },
  {
   "cell_type": "code",
   "execution_count": 3,
   "id": "cleared-player",
   "metadata": {},
   "outputs": [
    {
     "data": {
      "text/plain": [
       "import org.apache.spark._\n",
       "import org.apache.spark.graphx._\n",
       "import org.apache.spark.rdd.RDD\n",
       "import org.apache.spark.sql.functions._\n",
       "import org.apache.spark.sql.types._\n",
       "import org.apache.spark.sql.SparkSession\n",
       "import org.apache.log4j.Logger\n",
       "import org.apache.log4j.Level\n",
       "import org.apache.spark.SparkContext\n",
       "import org.apache.spark.SparkConf\n",
       "import scala.util.MurmurHash\n"
      ]
     },
     "execution_count": 3,
     "metadata": {},
     "output_type": "execute_result"
    }
   ],
   "source": [
    "import org.apache.spark._\n",
    "import org.apache.spark.graphx._\n",
    "// To make some of the examples work we will also need RDD\n",
    "import org.apache.spark.rdd.RDD\n",
    "import org.apache.spark.sql.functions._\n",
    "import org.apache.spark.sql.types._\n",
    "import org.apache.spark.sql.SparkSession\n",
    "import org.apache.log4j.Logger\n",
    "import org.apache.log4j.Level\n",
    "import org.apache.spark.SparkContext\n",
    "import org.apache.spark.SparkConf\n",
    "import scala.util.MurmurHash"
   ]
  },
  {
   "cell_type": "code",
   "execution_count": 4,
   "id": "difficult-africa",
   "metadata": {},
   "outputs": [],
   "source": [
    "sc.stop() // stop sparkcontext"
   ]
  },
  {
   "cell_type": "markdown",
   "id": "crucial-content",
   "metadata": {},
   "source": [
    "Creating a new sparksession where master is spark://Ubuntu-HBD:7077. There is a master and there are 3 workers in sparksession which is configured with STANDALONE MODE."
   ]
  },
  {
   "cell_type": "code",
   "execution_count": 5,
   "id": "noticed-sarah",
   "metadata": {},
   "outputs": [
    {
     "data": {
      "text/plain": [
       "spark: org.apache.spark.sql.SparkSession = org.apache.spark.sql.SparkSession@2f417ff7\n"
      ]
     },
     "execution_count": 5,
     "metadata": {},
     "output_type": "execute_result"
    }
   ],
   "source": [
    "val spark = SparkSession.builder\n",
    "     .master(\"spark://Ubuntu-HBD:7077\")\n",
    "     .appName(\"BIL501 Project\")\n",
    "     .getOrCreate()"
   ]
  },
  {
   "cell_type": "code",
   "execution_count": 6,
   "id": "several-florence",
   "metadata": {},
   "outputs": [],
   "source": [
    "sc.stop()"
   ]
  },
  {
   "cell_type": "markdown",
   "id": "stupid-german",
   "metadata": {},
   "source": [
    "Reading textfile which is exported from forusquare API."
   ]
  },
  {
   "cell_type": "code",
   "execution_count": 7,
   "id": "historic-school",
   "metadata": {},
   "outputs": [
    {
     "data": {
      "text/plain": [
       "venues: org.apache.spark.sql.Dataset[String] = [value: string]\n",
       "links: org.apache.spark.sql.Dataset[String] = [value: string]\n"
      ]
     },
     "execution_count": 7,
     "metadata": {},
     "output_type": "execute_result"
    }
   ],
   "source": [
    "val venues = spark.read.textFile(\"export_venues.csv\")\n",
    "val links = spark.read.textFile(\"export_links.csv\")"
   ]
  },
  {
   "cell_type": "code",
   "execution_count": 8,
   "id": "individual-diana",
   "metadata": {},
   "outputs": [
    {
     "name": "stdout",
     "output_type": "stream",
     "text": [
      "+--------------------+\n",
      "|               value|\n",
      "+--------------------+\n",
      "|4c0e115bc700c9b6c...|\n",
      "|4bed1e076e8c20a19...|\n",
      "|4ce9209e0f196dcbd...|\n",
      "+--------------------+\n",
      "only showing top 3 rows\n",
      "\n"
     ]
    }
   ],
   "source": [
    "venues.show(3)"
   ]
  },
  {
   "cell_type": "code",
   "execution_count": 9,
   "id": "contemporary-scott",
   "metadata": {},
   "outputs": [
    {
     "name": "stdout",
     "output_type": "stream",
     "text": [
      "+--------------------+\n",
      "|               value|\n",
      "+--------------------+\n",
      "|4c0e115bc700c9b6c...|\n",
      "|4c0e115bc700c9b6c...|\n",
      "|4c0e115bc700c9b6c...|\n",
      "+--------------------+\n",
      "only showing top 3 rows\n",
      "\n"
     ]
    }
   ],
   "source": [
    "links.show(3)"
   ]
  },
  {
   "cell_type": "markdown",
   "id": "sought-nickel",
   "metadata": {},
   "source": [
    "Defining class Graph"
   ]
  },
  {
   "cell_type": "code",
   "execution_count": 10,
   "id": "dramatic-yeast",
   "metadata": {
    "scrolled": true
   },
   "outputs": [
    {
     "data": {
      "text/plain": [
       "defined class Graph\n",
       "warning: previously defined object Graph is not a companion to class Graph.\n",
       "Companions must be defined together; you may wish to use :paste mode for this.\n"
      ]
     },
     "execution_count": 10,
     "metadata": {},
     "output_type": "execute_result"
    }
   ],
   "source": [
    "class Graph[VD, ED] (val vertices: VertexRDD[VD], val edges: EdgeRDD[ED])"
   ]
  },
  {
   "cell_type": "markdown",
   "id": "stunning-commerce",
   "metadata": {},
   "source": [
    "Defining class Venues"
   ]
  },
  {
   "cell_type": "code",
   "execution_count": 11,
   "id": "sought-board",
   "metadata": {},
   "outputs": [
    {
     "data": {
      "text/plain": [
       "defined class Venues\n"
      ]
     },
     "execution_count": 11,
     "metadata": {},
     "output_type": "execute_result"
    }
   ],
   "source": [
    "case class Venues(Name:String,lat:Float,lng:Float)\n"
   ]
  },
  {
   "cell_type": "code",
   "execution_count": 12,
   "id": "illegal-cookie",
   "metadata": {},
   "outputs": [
    {
     "data": {
      "text/plain": [
       "ayır: (line: String)(Long, Venues)\n"
      ]
     },
     "execution_count": 12,
     "metadata": {},
     "output_type": "execute_result"
    }
   ],
   "source": [
    "// the function used for creating venuesRDD.\n",
    "def ayır(line:String):(Long,Venues)={\n",
    "    // VertexID must be Long, so VenuesID is converted to Long from string.\n",
    "    val a = MurmurHash.stringHash(line.split(\",\")(0).toString)     \n",
    "    val b = line.split(\",\")(1).toString\n",
    "    val c = line.split(\",\")(2).toFloat\n",
    "    val d = line.split(\",\")(3).toFloat\n",
    "\n",
    "    \n",
    "    return (a, Venues(b,c,d))    \n",
    "}\n"
   ]
  },
  {
   "cell_type": "code",
   "execution_count": 13,
   "id": "presidential-baltimore",
   "metadata": {},
   "outputs": [
    {
     "data": {
      "text/plain": [
       "venuesRDD: org.apache.spark.rdd.RDD[(org.apache.spark.graphx.VertexId, Venues)] = MapPartitionsRDD[11] at map at <console>:49\n"
      ]
     },
     "execution_count": 13,
     "metadata": {},
     "output_type": "execute_result"
    }
   ],
   "source": [
    "val venuesRDD: RDD[(VertexId, Venues)] =  venues.rdd.map(ayır)"
   ]
  },
  {
   "cell_type": "code",
   "execution_count": 14,
   "id": "obvious-healthcare",
   "metadata": {},
   "outputs": [
    {
     "data": {
      "text/plain": [
       "res4: Array[(org.apache.spark.graphx.VertexId, Venues)] = Array((914172510,Venues(Anıtkabir,39.926785,32.83659)), (-2086253975,Venues(Middle East Technical University (Orta Doğu Teknik Üniversitesi),39.90006,32.788715)), (919849682,Venues(HD İskender,39.95,32.830822)))\n"
      ]
     },
     "execution_count": 14,
     "metadata": {},
     "output_type": "execute_result"
    }
   ],
   "source": [
    "venuesRDD.take(3)"
   ]
  },
  {
   "cell_type": "code",
   "execution_count": 15,
   "id": "naughty-hughes",
   "metadata": {},
   "outputs": [
    {
     "data": {
      "text/plain": [
       "defined type alias Connection\n",
       "linksRDD: org.apache.spark.rdd.RDD[org.apache.spark.graphx.Edge[Connection]] = MapPartitionsRDD[17] at map at <console>:46\n"
      ]
     },
     "execution_count": 15,
     "metadata": {},
     "output_type": "execute_result"
    }
   ],
   "source": [
    "type Connection = Float\n",
    "val linksRDD: RDD[Edge[Connection]] = links.rdd.map{ line => \n",
    "  val vs = line.split(\",\");\n",
    "  Edge(MurmurHash.stringHash(vs(0).toString), MurmurHash.stringHash(vs(1).toString), vs(2).toFloat)\n",
    "}"
   ]
  },
  {
   "cell_type": "markdown",
   "id": "local-healing",
   "metadata": {},
   "source": [
    "### Creating VENUEs - GRAPH"
   ]
  },
  {
   "cell_type": "code",
   "execution_count": 16,
   "id": "acting-complexity",
   "metadata": {},
   "outputs": [
    {
     "data": {
      "text/plain": [
       "venuesgraph: org.apache.spark.graphx.Graph[Venues,Connection] = org.apache.spark.graphx.impl.GraphImpl@150a88ad\n"
      ]
     },
     "execution_count": 16,
     "metadata": {},
     "output_type": "execute_result"
    }
   ],
   "source": [
    "val venuesgraph = Graph(venuesRDD, linksRDD)"
   ]
  },
  {
   "cell_type": "markdown",
   "id": "coated-algeria",
   "metadata": {},
   "source": [
    "Distances between edges"
   ]
  },
  {
   "cell_type": "code",
   "execution_count": 17,
   "id": "cultural-violence",
   "metadata": {},
   "outputs": [
    {
     "name": "stdout",
     "output_type": "stream",
     "text": [
      "Starbucks ile City Hotel arasındaki mesafe 24.276623 m.\n",
      "Starbucks ile 365 arasındaki mesafe 590.436 m.\n",
      "Starbucks ile Liva Pastanesi arasındaki mesafe 754.1987 m.\n",
      "Starbucks ile Seğmenler Park (Seğmenler Parkı) arasındaki mesafe 2321.4937 m.\n",
      "Middle East Technical University (Orta Doğu Teknik Üniversitesi) ile ODTÜ Çarşı arasındaki mesafe 827.2606 m.\n",
      "Middle East Technical University (Orta Doğu Teknik Üniversitesi) ile Kentpark arasındaki mesafe 1527.9105 m.\n",
      "Middle East Technical University (Orta Doğu Teknik Üniversitesi) ile Susam arasındaki mesafe 842.96735 m.\n",
      "Middle East Technical University (Orta Doğu Teknik Üniversitesi) ile Cepa arasındaki mesafe 1427.8602 m.\n",
      "Middle East Technical University (Orta Doğu Teknik Üniversitesi) ile Çatı Cafe arasındaki mesafe 993.22015 m.\n",
      "City Hotel ile Starbucks arasındaki mesafe 24.276623 m.\n",
      "City Hotel ile 365 arasındaki mesafe 602.95807 m.\n",
      "City Hotel ile Urfalı Hacı Mehmet Kebap arasındaki mesafe 82.51984 m.\n",
      "City Hotel ile Adana Sofrası arasındaki mesafe 148.8798 m.\n",
      "Newcastle ile Budakaltı arasındaki mesafe 5.9600034 m.\n",
      "Newcastle ile Starbucks arasındaki mesafe 74.55649 m.\n",
      "Newcastle ile Pool Pub arasındaki mesafe 200.8885 m.\n",
      "Newcastle ile Arcadium arasındaki mesafe 28.550108 m.\n",
      "Newcastle ile Arcadium Sinemaları arasındaki mesafe 61.16866 m.\n",
      "Cinemaximum ile Kahve Dünyası arasındaki mesafe 64.085144 m.\n",
      "Cinemaximum ile Starbucks arasındaki mesafe 55.98598 m.\n",
      "Cinemaximum ile Timboo Cafe arasındaki mesafe 45.617035 m.\n",
      "Cinemaximum ile Armada arasındaki mesafe 68.57546 m.\n",
      "Cinemaximum ile Mado arasındaki mesafe 53.69639 m.\n",
      "Timboo Cafe ile Botanical Park (Botanik Parkı) arasındaki mesafe 226.70702 m.\n",
      "Timboo Cafe ile Big Chefs arasındaki mesafe 15.188479 m.\n",
      "Timboo Cafe ile Vakko arasındaki mesafe 33.568657 m.\n",
      "Timboo Cafe ile Starbucks arasındaki mesafe 45.946903 m.\n",
      "Timboo Cafe ile Atakule arasındaki mesafe 9.778842 m.\n",
      "Doyurucu ile ODTÜ Çarşı arasındaki mesafe 90.36569 m.\n",
      "Doyurucu ile ODTÜ Tenis Kortları arasındaki mesafe 98.18363 m.\n",
      "Doyurucu ile Susam arasındaki mesafe 90.8043 m.\n",
      "Doyurucu ile Çatı Cafe arasındaki mesafe 574.2584 m.\n",
      "Doyurucu ile Sunshine arasındaki mesafe 275.69525 m.\n",
      "Şençam Köftecisi ile Park Center arasındaki mesafe 313.00372 m.\n",
      "Şençam Köftecisi ile Atatürk Forest Farm (Atatürk Orman Çiftliği) arasındaki mesafe 5.368119 m.\n",
      "Şençam Köftecisi ile Doğata arasındaki mesafe 35.641693 m.\n",
      "Şençam Köftecisi ile Armada arasındaki mesafe 3136.0823 m.\n",
      "Şençam Köftecisi ile ANKAmall arasındaki mesafe 3309.0647 m.\n",
      "Tren Ankara ile Loop arasındaki mesafe 271.4885 m.\n",
      "Tren Ankara ile Köroğlu İşkembecisi arasındaki mesafe 609.4833 m.\n",
      "Tren Ankara ile Blackk Ankara arasındaki mesafe 987.90643 m.\n",
      "Tren Ankara ile Devrez arasındaki mesafe 1016.7087 m.\n",
      "Tren Ankara ile Albüm arasındaki mesafe 10.612388 m.\n",
      "The Bigos ile Brasserie Bomonti arasındaki mesafe 106.17365 m.\n",
      "The Bigos ile 6:45 Kaybedenler Kulübü arasındaki mesafe 144.33359 m.\n",
      "The Bigos ile OT arasındaki mesafe 11.470344 m.\n",
      "The Bigos ile Kuğulu Park arasındaki mesafe 588.7794 m.\n",
      "The Bigos ile Seğmenler Park (Seğmenler Parkı) arasındaki mesafe 1289.349 m.\n",
      "Güvenpark ile Starbucks arasındaki mesafe 211.60022 m.\n",
      "Güvenpark ile Kızılay Square (Kızılay Meydanı) arasındaki mesafe 142.08882 m.\n",
      "Güvenpark ile Kahveci Hacıbaba arasındaki mesafe 306.45685 m.\n",
      "Güvenpark ile Ezgi Cafe arasındaki mesafe 249.86511 m.\n",
      "Güvenpark ile Kızılay AVM arasındaki mesafe 287.83334 m.\n",
      "ODTÜ Çarşı ile ODTÜ Tenis Kortları arasındaki mesafe 8.4597435 m.\n",
      "ODTÜ Çarşı ile ODTÜ Black Ball arasındaki mesafe 3.254257 m.\n",
      "ODTÜ Çarşı ile Susam arasındaki mesafe 24.18333 m.\n",
      "ODTÜ Çarşı ile Çatı Cafe arasındaki mesafe 522.13184 m.\n",
      "ODTÜ Çarşı ile Sunshine arasındaki mesafe 366.03314 m.\n",
      "Botanical Park (Botanik Parkı) ile Kızılay Square (Kızılay Meydanı) arasındaki mesafe 3655.6494 m.\n",
      "Botanical Park (Botanik Parkı) ile Dikmen Vadisi arasındaki mesafe 1238.747 m.\n",
      "Botanical Park (Botanik Parkı) ile Kuğulu Park arasındaki mesafe 1627.0448 m.\n",
      "Botanical Park (Botanik Parkı) ile Atakule arasındaki mesafe 216.9347 m.\n",
      "Botanical Park (Botanik Parkı) ile Seğmenler Park (Seğmenler Parkı) arasındaki mesafe 1074.7153 m.\n",
      "Meşhur Mithatpaşa İşkembe & Kebapçısı ile Kızılay Square (Kızılay Meydanı) arasındaki mesafe 408.6275 m.\n",
      "Meşhur Mithatpaşa İşkembe & Kebapçısı ile Eskiyeni arasındaki mesafe 153.12196 m.\n",
      "Meşhur Mithatpaşa İşkembe & Kebapçısı ile Kızılay AVM arasındaki mesafe 729.8084 m.\n",
      "Meşhur Mithatpaşa İşkembe & Kebapçısı ile Passage arasındaki mesafe 100.968956 m.\n",
      "Meşhur Mithatpaşa İşkembe & Kebapçısı ile Kurtuluş Parkı arasındaki mesafe 654.8638 m.\n",
      "Elizinn ile Karum arasındaki mesafe 744.02344 m.\n",
      "Elizinn ile Café des Cafés arasındaki mesafe 37.09587 m.\n",
      "Elizinn ile Kuğulu Park arasındaki mesafe 507.15814 m.\n",
      "Elizinn ile Seğmenler Park (Seğmenler Parkı) arasındaki mesafe 1175.1378 m.\n",
      "Elizinn ile Leman Kültür arasındaki mesafe 139.61447 m.\n",
      "Ankara Arena ile Kızılay Square (Kızılay Meydanı) arasındaki mesafe 2076.295 m.\n",
      "Ankara Arena ile May 19 Stadium (19 Mayıs Stadyumu) arasındaki mesafe 304.28415 m.\n",
      "Ankara Arena ile Atatürk Kültür Merkezi arasındaki mesafe 609.79333 m.\n",
      "Ankara Arena ile Gençlik Parkı arasındaki mesafe 766.38696 m.\n",
      "Ankara Arena ile ANKAmall arasındaki mesafe 1840.374 m.\n",
      "Ali Baba ile Marco Pascha arasındaki mesafe 985.4965 m.\n",
      "Ali Baba ile Öküz arasındaki mesafe 707.37213 m.\n",
      "Ali Baba ile Next Level arasındaki mesafe 155.05428 m.\n",
      "Ali Baba ile Otto Lounge arasındaki mesafe 834.7106 m.\n",
      "Ali Baba ile Balkon Nargile arasındaki mesafe 21.82772 m.\n",
      "Starbucks ile Güvenpark arasındaki mesafe 211.60022 m.\n",
      "Starbucks ile Kızılay Square (Kızılay Meydanı) arasındaki mesafe 95.05604 m.\n",
      "Starbucks ile Kahveci Hacıbaba arasındaki mesafe 364.97385 m.\n",
      "Starbucks ile Kızılay AVM arasındaki mesafe 343.64062 m.\n",
      "Starbucks ile ANKAmall arasındaki mesafe 3807.895 m.\n",
      "Umumi ile Meşhur Özçelik Aspava arasındaki mesafe 1007.6476 m.\n",
      "Umumi ile Meşhur Özçelik Aspava arasındaki mesafe 1039.4385 m.\n",
      "Umumi ile Yıldız Aspava arasındaki mesafe 1025.2189 m.\n",
      "Umumi ile Blackk Ankara arasındaki mesafe 689.75916 m.\n",
      "Umumi ile Devrez arasındaki mesafe 843.853 m.\n",
      "Big Baker ile Starbucks arasındaki mesafe 31.272194 m.\n",
      "Big Baker ile Pool Pub arasındaki mesafe 30.350843 m.\n",
      "Big Baker ile Kahve Dünyası arasındaki mesafe 129.20561 m.\n",
      "Big Baker ile Nefti arasındaki mesafe 173.8907 m.\n",
      "Big Baker ile Seğmenler Park (Seğmenler Parkı) arasındaki mesafe 1303.6874 m.\n",
      "MACFit ile Starbucks arasındaki mesafe 392.65656 m.\n",
      "MACFit ile Starbucks arasındaki mesafe 185.09286 m.\n",
      "MACFit ile Luppa arasındaki mesafe 428.13553 m.\n",
      "MACFit ile Kuğulu Park arasındaki mesafe 188.17715 m.\n",
      "MACFit ile Seğmenler Park (Seğmenler Parkı) arasındaki mesafe 729.9008 m.\n",
      "Taurus ile Starbucks arasındaki mesafe 134.92902 m.\n",
      "Taurus ile HD İskender arasındaki mesafe 79.245094 m.\n",
      "Taurus ile Kocatepe Kahve Evi arasındaki mesafe 4.494977 m.\n",
      "Taurus ile Cinemarine arasındaki mesafe 70.02988 m.\n",
      "Taurus ile Liva Pastanesi arasındaki mesafe 147.00851 m.\n",
      "Kahve Dünyası ile D&R arasındaki mesafe 16.656765 m.\n",
      "Kahve Dünyası ile Karum arasındaki mesafe 313.75153 m.\n",
      "Kahve Dünyası ile Kuğulu Park arasındaki mesafe 46.666435 m.\n",
      "Kahve Dünyası ile Seğmenler Park (Seğmenler Parkı) arasındaki mesafe 687.86835 m.\n",
      "Kahve Dünyası ile Leman Kültür arasındaki mesafe 547.74414 m.\n",
      "Nefes Bar ile Kızılay Square (Kızılay Meydanı) arasındaki mesafe 412.13922 m.\n",
      "Nefes Bar ile Telwe arasındaki mesafe 186.92345 m.\n",
      "Nefes Bar ile IF Performance Hall arasındaki mesafe 1219.895 m.\n",
      "Nefes Bar ile Eskiyeni arasındaki mesafe 188.96724 m.\n",
      "Nefes Bar ile Passage arasındaki mesafe 219.07916 m.\n",
      "ÜstKat ile Starbucks arasındaki mesafe 121.699745 m.\n",
      "ÜstKat ile Café des Cafés arasındaki mesafe 482.89462 m.\n",
      "ÜstKat ile Kuğulu Park arasındaki mesafe 10.265825 m.\n",
      "ÜstKat ile Kıtır arasındaki mesafe 48.170002 m.\n",
      "ÜstKat ile Seğmenler Park (Seğmenler Parkı) arasındaki mesafe 695.68475 m.\n",
      "Park Center ile Marco Pascha arasındaki mesafe 4213.952 m.\n",
      "Park Center ile Atatürk Forest Farm (Atatürk Orman Çiftliği) arasındaki mesafe 313.98 m.\n",
      "Park Center ile Doğata arasındaki mesafe 318.48584 m.\n",
      "Park Center ile Kahveci Hacıbaba arasındaki mesafe 4204.983 m.\n",
      "Park Center ile ANKAmall arasındaki mesafe 3539.4128 m.\n",
      "Keifi ile Next Level arasındaki mesafe 50.100918 m.\n",
      "Keifi ile Cinemaximum arasındaki mesafe 13.013422 m.\n",
      "Keifi ile Big Chefs arasındaki mesafe 72.00474 m.\n",
      "Keifi ile Armada arasındaki mesafe 374.32013 m.\n",
      "Keifi ile Huqqa arasındaki mesafe 1608.0273 m.\n",
      "Tandoğan Square (Tandoğan Meydanı) ile Kızılay Square (Kızılay Meydanı) arasındaki mesafe 2058.3518 m.\n",
      "Tandoğan Square (Tandoğan Meydanı) ile Gençlik Parkı arasındaki mesafe 1323.3992 m.\n",
      "Tandoğan Square (Tandoğan Meydanı) ile ANKAmall arasındaki mesafe 1956.2583 m.\n",
      "ODTÜ Tenis Kortları ile ODTÜ Çarşı arasındaki mesafe 8.4597435 m.\n",
      "ODTÜ Tenis Kortları ile Kentpark arasındaki mesafe 2174.56 m.\n",
      "ODTÜ Tenis Kortları ile Susam arasındaki mesafe 23.19405 m.\n",
      "ODTÜ Tenis Kortları ile Çatı Cafe arasındaki mesafe 515.2475 m.\n",
      "ODTÜ Tenis Kortları ile Sunshine arasındaki mesafe 373.8777 m.\n",
      "Beykoz Çorbacısı ile Starbucks arasındaki mesafe 1357.1694 m.\n",
      "Beykoz Çorbacısı ile Kızılay Square (Kızılay Meydanı) arasındaki mesafe 3984.5647 m.\n",
      "Beykoz Çorbacısı ile Dikmen Vadisi arasındaki mesafe 1234.401 m.\n",
      "Beykoz Çorbacısı ile Atakule arasındaki mesafe 255.5895 m.\n",
      "Kocatepe Kahve Evi ile Kızılay Square (Kızılay Meydanı) arasındaki mesafe 1789.8926 m.\n",
      "Kocatepe Kahve Evi ile Kahveci Hacıbaba arasındaki mesafe 158.88258 m.\n",
      "Kocatepe Kahve Evi ile Kahveci Paşazade arasındaki mesafe 37.48741 m.\n",
      "Kocatepe Kahve Evi ile Kurtuluş Parkı arasındaki mesafe 753.4301 m.\n",
      "Kocatepe Kahve Evi ile ANKAmall arasındaki mesafe 4211.822 m.\n",
      "Kahve Dünyası ile Cinemaximum arasındaki mesafe 64.085144 m.\n",
      "Kahve Dünyası ile Kentpark arasındaki mesafe 2839.819 m.\n",
      "Kahve Dünyası ile Timboo Cafe arasındaki mesafe 30.57111 m.\n",
      "Kahve Dünyası ile Armada arasındaki mesafe 6.578162 m.\n",
      "Kahve Dünyası ile Mado arasındaki mesafe 21.811398 m.\n",
      "Kızılay Square (Kızılay Meydanı) ile Güvenpark arasındaki mesafe 142.08882 m.\n",
      "Kızılay Square (Kızılay Meydanı) ile Kahveci Hacıbaba arasındaki mesafe 280.5674 m.\n",
      "Kızılay Square (Kızılay Meydanı) ile Ezgi Cafe arasındaki mesafe 303.46756 m.\n",
      "Kızılay Square (Kızılay Meydanı) ile Kızılay AVM arasındaki mesafe 356.42233 m.\n",
      "Kızılay Square (Kızılay Meydanı) ile ANKAmall arasındaki mesafe 3902.9482 m.\n",
      "Ehlikeyf Plus ile Ali Baba arasındaki mesafe 619.70557 m.\n",
      "Ehlikeyf Plus ile Marco Pascha arasındaki mesafe 404.26154 m.\n",
      "Ehlikeyf Plus ile Mado arasındaki mesafe 26.139124 m.\n",
      "Ehlikeyf Plus ile Otto Lounge arasındaki mesafe 266.78445 m.\n",
      "Ehlikeyf Plus ile Balkon Nargile arasındaki mesafe 600.757 m.\n",
      "Big Chefs ile Timboo Cafe arasındaki mesafe 15.188479 m.\n",
      "Big Chefs ile Vakko arasındaki mesafe 44.38399 m.\n",
      "Big Chefs ile Starbucks arasındaki mesafe 42.331936 m.\n",
      "Big Chefs ile Luigi's Ristorante Bar arasındaki mesafe 25.26359 m.\n",
      "Big Chefs ile Atakule arasındaki mesafe 7.3123407 m.\n",
      "Central Ankara ile BARikaT #1538 arasındaki mesafe 293.9815 m.\n",
      "Central Ankara ile Öküz arasındaki mesafe 1960.9955 m.\n",
      "Central Ankara ile BlackStation Pub arasındaki mesafe 277.99835 m.\n",
      "Central Ankara ile Müjgan arasındaki mesafe 285.65045 m.\n",
      "Central Ankara ile Toolbar arasındaki mesafe 329.07355 m.\n",
      "Cookshop ile Park Ehlikeyf arasındaki mesafe 3429.569 m.\n",
      "Cookshop ile Cinemaximum arasındaki mesafe 147.52492 m.\n",
      "Cookshop ile Pool Pub arasındaki mesafe 1991.1735 m.\n",
      "Cookshop ile Gordion arasındaki mesafe 28.773888 m.\n",
      "Cookshop ile Starbucks arasındaki mesafe 26.80058 m.\n",
      "365 ile Kahve Dünyası arasındaki mesafe 17.380941 m.\n",
      "365 ile Newcastle arasındaki mesafe 23.244009 m.\n",
      "365 ile Lozan Parkı arasındaki mesafe 296.52335 m.\n",
      "365 ile HD İskender arasındaki mesafe 15.29126 m.\n",
      "Profesör Kokoreç ile Brasserie Bomonti arasındaki mesafe 189.48828 m.\n",
      "Profesör Kokoreç ile Corvus arasındaki mesafe 17.382874 m.\n",
      "Profesör Kokoreç ile IF Performance Hall arasındaki mesafe 646.72974 m.\n",
      "Profesör Kokoreç ile Kuğulu Park arasındaki mesafe 515.9478 m.\n",
      "Profesör Kokoreç ile Puhu arasındaki mesafe 13.43953 m.\n",
      "Rolling Ball Bowling ile Kentpark arasındaki mesafe 81.739265 m.\n",
      "Rolling Ball Bowling ile Prestige Cinema arasındaki mesafe 121.16922 m.\n",
      "Rolling Ball Bowling ile Starbucks arasındaki mesafe 124.3513 m.\n",
      "Rolling Ball Bowling ile Timboo Cafe arasındaki mesafe 39.438526 m.\n",
      "Rolling Ball Bowling ile Cepa arasındaki mesafe 231.53235 m.\n",
      "Loop ile Beykoz Çorbacısı arasındaki mesafe 2040.1776 m.\n",
      "Loop ile Köroğlu İşkembecisi arasındaki mesafe 870.1628 m.\n",
      "Loop ile Blackk Ankara arasındaki mesafe 725.62463 m.\n",
      "Loop ile Devrez arasındaki mesafe 842.3041 m.\n",
      "Loop ile Albüm arasındaki mesafe 278.2568 m.\n",
      "BARikaT #1538 ile Bla Bla Bistro Pub arasındaki mesafe 27.779682 m.\n",
      "BARikaT #1538 ile ZeuS arasındaki mesafe 25.57996 m.\n",
      "BARikaT #1538 ile BlackStation Pub arasındaki mesafe 16.653534 m.\n",
      "BARikaT #1538 ile Müjgan arasındaki mesafe 12.955521 m.\n",
      "BARikaT #1538 ile Toolbar arasındaki mesafe 51.865566 m.\n",
      "Urfalı Hacı Mehmet Kebap ile Starbucks arasındaki mesafe 106.72463 m.\n",
      "Urfalı Hacı Mehmet Kebap ile 365 arasındaki mesafe 644.66455 m.\n",
      "Urfalı Hacı Mehmet Kebap ile Angora Pastanesi arasındaki mesafe 246.23138 m.\n",
      "Urfalı Hacı Mehmet Kebap ile Liva Pastanesi arasındaki mesafe 653.053 m.\n",
      "Up Lost Pub & Performance ile Kızılay Square (Kızılay Meydanı) arasındaki mesafe 321.27847 m.\n",
      "Up Lost Pub & Performance ile Telwe arasındaki mesafe 80.94792 m.\n",
      "Up Lost Pub & Performance ile Eskiyeni arasındaki mesafe 80.830185 m.\n",
      "Up Lost Pub & Performance ile Nil Bar arasındaki mesafe 16.7313 m.\n",
      "Up Lost Pub & Performance ile Passage arasındaki mesafe 155.0185 m.\n",
      "Starbucks ile Keifi arasındaki mesafe 51.796738 m.\n",
      "Starbucks ile Next Level arasındaki mesafe 25.491165 m.\n",
      "Starbucks ile Cinemaximum arasındaki mesafe 39.144302 m.\n",
      "Starbucks ile Big Chefs arasındaki mesafe 120.760284 m.\n",
      "Starbucks ile Armada arasındaki mesafe 346.1636 m.\n",
      "Starbucks ile El Paso arasındaki mesafe 56.093723 m.\n",
      "Starbucks ile Vamos Sports Complex arasındaki mesafe 566.77014 m.\n",
      "Starbucks ile Taurus arasındaki mesafe 134.92902 m.\n",
      "Starbucks ile Cinemarine arasındaki mesafe 69.41326 m.\n",
      "Starbucks ile Liva Pastanesi arasındaki mesafe 20.873636 m.\n"
     ]
    },
    {
     "name": "stdout",
     "output_type": "stream",
     "text": [
      "Park Ehlikeyf ile Narquilla arasındaki mesafe 13.936407 m.\n",
      "Park Ehlikeyf ile Pool Pub arasındaki mesafe 1455.6112 m.\n",
      "Park Ehlikeyf ile Dürüm Aspava arasındaki mesafe 739.6461 m.\n",
      "Park Ehlikeyf ile Gordion arasındaki mesafe 3457.0642 m.\n",
      "Park Ehlikeyf ile Escape arasındaki mesafe 128.82419 m.\n",
      "Köroğlu İşkembecisi ile Kızılay Square (Kızılay Meydanı) arasındaki mesafe 3499.7961 m.\n",
      "Köroğlu İşkembecisi ile Starbucks arasındaki mesafe 244.10951 m.\n",
      "Köroğlu İşkembecisi ile Pool Pub arasındaki mesafe 253.73813 m.\n",
      "Köroğlu İşkembecisi ile Kahve Dünyası arasındaki mesafe 401.47513 m.\n",
      "Köroğlu İşkembecisi ile Seğmenler Park (Seğmenler Parkı) arasındaki mesafe 1499.5859 m.\n",
      "Hmbrgr - Homemade Burgers ile Cookshop arasındaki mesafe 144.82352 m.\n",
      "Hmbrgr - Homemade Burgers ile Cinemaximum arasındaki mesafe 10.040905 m.\n",
      "Hmbrgr - Homemade Burgers ile Tchibo arasındaki mesafe 157.36937 m.\n",
      "Hmbrgr - Homemade Burgers ile Gordion arasındaki mesafe 116.1422 m.\n",
      "Hmbrgr - Homemade Burgers ile Starbucks arasındaki mesafe 163.75366 m.\n",
      "ODTÜ Black Ball ile ODTÜ Tenis Kortları arasındaki mesafe 5.5430202 m.\n",
      "ODTÜ Black Ball ile Makara arasındaki mesafe 6.3314486 m.\n",
      "ODTÜ Black Ball ile Susam arasındaki mesafe 22.340149 m.\n",
      "ODTÜ Black Ball ile Çatı Cafe arasındaki mesafe 518.9797 m.\n",
      "ODTÜ Black Ball ile Sunshine arasındaki mesafe 368.41415 m.\n",
      "Telwe ile Kızılay Square (Kızılay Meydanı) arasındaki mesafe 246.3479 m.\n",
      "Telwe ile Up Lost Pub & Performance arasındaki mesafe 80.94792 m.\n",
      "Telwe ile IF Performance Hall arasındaki mesafe 1169.7133 m.\n",
      "Telwe ile Eskiyeni arasındaki mesafe 17.078512 m.\n",
      "Telwe ile Passage arasındaki mesafe 171.64526 m.\n",
      "Cinemaximum ile Kızılay Square (Kızılay Meydanı) arasındaki mesafe 3806.1572 m.\n",
      "Cinemaximum ile HD İskender arasındaki mesafe 76.763115 m.\n",
      "Cinemaximum ile Starbucks arasındaki mesafe 102.81409 m.\n",
      "Cinemaximum ile Özsüt arasındaki mesafe 103.06306 m.\n",
      "Cinemaximum ile ANKAmall arasındaki mesafe 107.81181 m.\n",
      "Narquilla ile Park Ehlikeyf arasındaki mesafe 13.936407 m.\n",
      "Narquilla ile Pool Pub arasındaki mesafe 1450.2074 m.\n",
      "Narquilla ile Dürüm Aspava arasındaki mesafe 740.3809 m.\n",
      "Narquilla ile Gordion arasındaki mesafe 3453.1306 m.\n",
      "Narquilla ile Escape arasındaki mesafe 116.48138 m.\n",
      "Marco Pascha ile Atatürk Forest Farm (Atatürk Orman Çiftliği) arasındaki mesafe 4461.28 m.\n",
      "Marco Pascha ile Emirgan Sütiş arasındaki mesafe 39.772865 m.\n",
      "Marco Pascha ile Kahveci Hacıbaba arasındaki mesafe 18.544542 m.\n",
      "Marco Pascha ile Armada arasındaki mesafe 1370.4221 m.\n",
      "Marco Pascha ile Huqqa arasındaki mesafe 446.9632 m.\n",
      "MACFit ile Starbucks arasındaki mesafe 44.752407 m.\n",
      "MACFit ile Timboo Cafe arasındaki mesafe 77.95609 m.\n",
      "MACFit ile Mickey's by Las Chicas arasındaki mesafe 37.426163 m.\n",
      "MACFit ile Armada arasındaki mesafe 59.980553 m.\n",
      "MACFit ile Mado arasındaki mesafe 39.36698 m.\n",
      "HD İskender ile Taurus arasındaki mesafe 79.245094 m.\n",
      "HD İskender ile Starbucks arasındaki mesafe 85.95441 m.\n",
      "HD İskender ile Kocatepe Kahve Evi arasındaki mesafe 79.38879 m.\n",
      "HD İskender ile Cinemarine arasındaki mesafe 65.345146 m.\n",
      "HD İskender ile Liva Pastanesi arasındaki mesafe 87.81103 m.\n",
      "Kahveci Hacıbaba ile Güvenpark arasındaki mesafe 306.45685 m.\n",
      "Kahveci Hacıbaba ile Kızılay Square (Kızılay Meydanı) arasındaki mesafe 280.5674 m.\n",
      "Kahveci Hacıbaba ile Ezgi Cafe arasındaki mesafe 161.13867 m.\n",
      "Kahveci Hacıbaba ile Kızılay AVM arasındaki mesafe 593.21027 m.\n",
      "Kahveci Hacıbaba ile ANKAmall arasındaki mesafe 4145.685 m.\n",
      "Bla Bla Bistro Pub ile BARikaT #1538 arasındaki mesafe 27.779682 m.\n",
      "Bla Bla Bistro Pub ile ZeuS arasındaki mesafe 2.4715323 m.\n",
      "Bla Bla Bistro Pub ile Öküz arasındaki mesafe 1650.9786 m.\n",
      "Bla Bla Bistro Pub ile BlackStation Pub arasındaki mesafe 38.496788 m.\n",
      "Bla Bla Bistro Pub ile Toolbar arasındaki mesafe 24.29397 m.\n",
      "Kentpark ile Rolling Ball Bowling arasındaki mesafe 81.739265 m.\n",
      "Kentpark ile Prestige Cinema arasındaki mesafe 42.973423 m.\n",
      "Kentpark ile Starbucks arasındaki mesafe 73.39539 m.\n",
      "Kentpark ile Timboo Cafe arasındaki mesafe 97.62124 m.\n",
      "Kentpark ile Cepa arasındaki mesafe 175.06477 m.\n",
      "Hayat Bi Geyik ile Kızılay Square (Kızılay Meydanı) arasındaki mesafe 445.135 m.\n",
      "Hayat Bi Geyik ile Kahve Adası arasındaki mesafe 14.222759 m.\n",
      "Hayat Bi Geyik ile Ezgi Cafe arasındaki mesafe 162.1323 m.\n",
      "Hayat Bi Geyik ile Kızılay AVM arasındaki mesafe 584.1888 m.\n",
      "Hayat Bi Geyik ile Koliba arasındaki mesafe 47.419888 m.\n",
      "ZeuS ile BARikaT #1538 arasındaki mesafe 25.57996 m.\n",
      "ZeuS ile Bla Bla Bistro Pub arasındaki mesafe 2.4715323 m.\n",
      "ZeuS ile Öküz arasındaki mesafe 1652.2616 m.\n",
      "ZeuS ile BlackStation Pub arasındaki mesafe 36.902683 m.\n",
      "ZeuS ile Toolbar arasındaki mesafe 26.682028 m.\n",
      "Starbucks ile Big Baker arasındaki mesafe 31.272194 m.\n",
      "Starbucks ile Pool Pub arasındaki mesafe 21.286097 m.\n",
      "Starbucks ile Seğmenler Park (Seğmenler Parkı) arasındaki mesafe 1325.2775 m.\n",
      "Starbucks ile Ankara Şehir Kulübü arasındaki mesafe 63.870895 m.\n",
      "D&R ile Kahve Dünyası arasındaki mesafe 16.656765 m.\n",
      "D&R ile Karum arasındaki mesafe 309.24945 m.\n",
      "D&R ile Starbucks arasındaki mesafe 134.6748 m.\n",
      "D&R ile Kuğulu Park arasındaki mesafe 42.108322 m.\n",
      "D&R ile Seğmenler Park (Seğmenler Parkı) arasındaki mesafe 675.46313 m.\n",
      "Brasserie Bomonti ile Twister arasındaki mesafe 182.69264 m.\n",
      "Brasserie Bomonti ile IF Performance Hall arasındaki mesafe 585.0375 m.\n",
      "Brasserie Bomonti ile Blackk Ankara arasındaki mesafe 762.00275 m.\n",
      "Brasserie Bomonti ile Puhu arasındaki mesafe 191.10316 m.\n",
      "Brasserie Bomonti ile Passage arasındaki mesafe 1908.9703 m.\n",
      "H&M ile Cookshop arasındaki mesafe 43.397385 m.\n",
      "H&M ile Cinemaximum arasındaki mesafe 106.47863 m.\n",
      "H&M ile Gordion arasındaki mesafe 17.730078 m.\n",
      "H&M ile Starbucks arasındaki mesafe 61.098248 m.\n",
      "H&M ile Zara arasındaki mesafe 83.70993 m.\n",
      "Dikmen Vadisi ile Kızılay Square (Kızılay Meydanı) arasındaki mesafe 3127.5105 m.\n",
      "Dikmen Vadisi ile Meşhur Tavacı Recep Usta arasındaki mesafe 979.48883 m.\n",
      "Dikmen Vadisi ile Kuğulu Park arasındaki mesafe 1674.8751 m.\n",
      "Dikmen Vadisi ile Atakule arasındaki mesafe 1287.6049 m.\n",
      "Dikmen Vadisi ile Öveçler Vadisi arasındaki mesafe 1049.7942 m.\n",
      "Prestige Cinema ile Kentpark arasındaki mesafe 42.973423 m.\n",
      "Prestige Cinema ile Starbucks arasındaki mesafe 52.45659 m.\n",
      "Prestige Cinema ile Timboo Cafe arasındaki mesafe 140.45602 m.\n",
      "Prestige Cinema ile Mado arasındaki mesafe 50.870827 m.\n",
      "Prestige Cinema ile Cepa arasındaki mesafe 175.97421 m.\n",
      "Cinemaximum ile Cookshop arasındaki mesafe 147.52492 m.\n",
      "Cinemaximum ile Hmbrgr - Homemade Burgers arasındaki mesafe 10.040905 m.\n",
      "Cinemaximum ile Pool Pub arasındaki mesafe 2128.2756 m.\n",
      "Cinemaximum ile Gordion arasındaki mesafe 118.751595 m.\n",
      "Cinemaximum ile Starbucks arasındaki mesafe 167.57681 m.\n",
      "Kahve Dünyası ile Migros arasındaki mesafe 86.280136 m.\n",
      "Kahve Dünyası ile 365 arasındaki mesafe 17.380941 m.\n",
      "Kahve Dünyası ile Newcastle arasındaki mesafe 7.9736667 m.\n",
      "Kahve Dünyası ile Lozan Parkı arasındaki mesafe 313.52243 m.\n",
      "Vakko ile Timboo Cafe arasındaki mesafe 33.568657 m.\n",
      "Vakko ile Big Chefs arasındaki mesafe 44.38399 m.\n",
      "Vakko ile Starbucks arasındaki mesafe 78.960915 m.\n",
      "Vakko ile Luigi's Ristorante Bar arasındaki mesafe 67.09596 m.\n",
      "Vakko ile Atakule arasındaki mesafe 42.33428 m.\n",
      "Twister ile Brasserie Bomonti arasındaki mesafe 182.69264 m.\n",
      "Twister ile IF Performance Hall arasındaki mesafe 641.382 m.\n",
      "Twister ile Blackk Ankara arasındaki mesafe 671.68335 m.\n",
      "Twister ile Passage arasındaki mesafe 1911.3904 m.\n",
      "Twister ile Devrez arasındaki mesafe 743.5736 m.\n",
      "Siyah Beyaz ile Beykoz Çorbacısı arasındaki mesafe 1796.7292 m.\n",
      "Siyah Beyaz ile Meşhur Özçelik Aspava arasındaki mesafe 1129.0857 m.\n",
      "Siyah Beyaz ile Yıldız Aspava arasındaki mesafe 949.0565 m.\n",
      "Siyah Beyaz ile IF Performance Hall arasındaki mesafe 1278.9037 m.\n",
      "Siyah Beyaz ile Devrez arasındaki mesafe 962.25354 m.\n",
      "Öküz ile IF Performance Hall arasındaki mesafe 4425.7407 m.\n",
      "Öküz ile Köroğlu İşkembecisi arasındaki mesafe 909.57526 m.\n",
      "Öküz ile Blackk Ankara arasındaki mesafe 5169.321 m.\n",
      "Öküz ile Devrez arasındaki mesafe 5500.0127 m.\n",
      "Öküz ile Klarnet Sahne arasındaki mesafe 92.09694 m.\n",
      "Pool Pub ile Köroğlu İşkembecisi arasındaki mesafe 253.73813 m.\n",
      "Pool Pub ile Starbucks arasındaki mesafe 21.286097 m.\n",
      "Pool Pub ile IF Performance Hall arasındaki mesafe 2685.8462 m.\n",
      "Pool Pub ile Blackk Ankara arasındaki mesafe 1462.5321 m.\n",
      "Pool Pub ile Devrez arasındaki mesafe 1416.6516 m.\n",
      "Newcastle ile Starbucks arasındaki mesafe 613.29315 m.\n",
      "Newcastle ile 365 arasındaki mesafe 23.244009 m.\n",
      "Newcastle ile Kahve Dünyası arasındaki mesafe 7.9736667 m.\n",
      "Newcastle ile Lozan Parkı arasındaki mesafe 319.73633 m.\n",
      "Starbucks ile Cinemaximum arasındaki mesafe 55.98598 m.\n",
      "Starbucks ile MACFit arasındaki mesafe 44.752407 m.\n",
      "Starbucks ile Timboo Cafe arasındaki mesafe 76.4095 m.\n",
      "Starbucks ile Mickey's by Las Chicas arasındaki mesafe 40.106663 m.\n",
      "Starbucks ile Armada arasındaki mesafe 76.58651 m.\n",
      "Bolu Mangalzade ile Rolling Ball Bowling arasındaki mesafe 106.72504 m.\n",
      "Bolu Mangalzade ile Kentpark arasındaki mesafe 35.0269 m.\n",
      "Bolu Mangalzade ile Prestige Cinema arasındaki mesafe 51.21286 m.\n",
      "Bolu Mangalzade ile Starbucks arasındaki mesafe 98.204 m.\n",
      "Bolu Mangalzade ile Cepa arasındaki mesafe 140.08963 m.\n",
      "Starbucks ile The Bigos arasındaki mesafe 962.793 m.\n",
      "Starbucks ile MACFit arasındaki mesafe 392.65656 m.\n",
      "Starbucks ile Luppa arasındaki mesafe 36.35182 m.\n",
      "Starbucks ile Kuğulu Park arasındaki mesafe 384.93805 m.\n",
      "Starbucks ile Seğmenler Park (Seğmenler Parkı) arasındaki mesafe 337.2527 m.\n",
      "Meşhur Tavacı Recep Usta ile Marco Pascha arasındaki mesafe 3555.4956 m.\n",
      "Meşhur Tavacı Recep Usta ile Dikmen Vadisi arasındaki mesafe 979.48883 m.\n",
      "Meşhur Tavacı Recep Usta ile ANKAmall arasındaki mesafe 7484.555 m.\n",
      "Meşhur Tavacı Recep Usta ile Huqqa arasındaki mesafe 3319.2292 m.\n",
      "Özdemir Kokoreç ile Marco Pascha arasındaki mesafe 4473.0605 m.\n",
      "Özdemir Kokoreç ile Atatürk Forest Farm (Atatürk Orman Çiftliği) arasındaki mesafe 37.857403 m.\n",
      "Özdemir Kokoreç ile Doğata arasındaki mesafe 16.340868 m.\n",
      "Özdemir Kokoreç ile Kahveci Hacıbaba arasındaki mesafe 4464.6895 m.\n",
      "Özdemir Kokoreç ile ANKAmall arasındaki mesafe 3346.2627 m.\n",
      "Corvus ile Profesör Kokoreç arasındaki mesafe 17.382874 m.\n",
      "Corvus ile Brasserie Bomonti arasındaki mesafe 193.16283 m.\n",
      "Corvus ile IF Performance Hall arasındaki mesafe 663.32715 m.\n",
      "Corvus ile Puhu arasındaki mesafe 4.142519 m.\n",
      "Corvus ile Passage arasındaki mesafe 1931.7537 m.\n",
      "Nusr-Et Steakhouse ile Ali Baba arasındaki mesafe 4632.7686 m.\n",
      "Nusr-Et Steakhouse ile Starbucks arasındaki mesafe 193.70308 m.\n",
      "Nusr-Et Steakhouse ile La Gioia Cafe Brasserie arasındaki mesafe 283.63632 m.\n",
      "Nusr-Et Steakhouse ile Seğmenler Park (Seğmenler Parkı) arasındaki mesafe 358.93845 m.\n",
      "Nusr-Et Steakhouse ile Huqqa arasındaki mesafe 4682.911 m.\n",
      "Starbucks ile Newcastle arasındaki mesafe 74.55649 m.\n",
      "Starbucks ile Bahçemiz arasındaki mesafe 49.158978 m.\n",
      "Starbucks ile Pool Pub arasındaki mesafe 183.02005 m.\n",
      "Starbucks ile Gordion arasındaki mesafe 2114.447 m.\n",
      "Starbucks ile Arcadium arasındaki mesafe 46.759018 m.\n",
      "Starbucks ile Kentpark arasındaki mesafe 73.39539 m.\n",
      "Starbucks ile Prestige Cinema arasındaki mesafe 52.45659 m.\n",
      "Starbucks ile Timboo Cafe arasındaki mesafe 155.17793 m.\n",
      "Starbucks ile Most Life Club arasındaki mesafe 61.148056 m.\n",
      "Starbucks ile Cepa arasındaki mesafe 228.40999 m.\n",
      "Timboo Cafe ile Kentpark arasındaki mesafe 97.62124 m.\n",
      "Timboo Cafe ile Prestige Cinema arasındaki mesafe 140.45602 m.\n",
      "Timboo Cafe ile Starbucks arasındaki mesafe 155.17793 m.\n",
      "Timboo Cafe ile Gelato Ice & Caffé arasındaki mesafe 174.86389 m.\n",
      "Timboo Cafe ile Cepa arasındaki mesafe 216.57475 m.\n",
      "Meşhur Özçelik Aspava ile Kızılay Square (Kızılay Meydanı) arasındaki mesafe 1904.9897 m.\n",
      "Meşhur Özçelik Aspava ile Brasserie Bomonti arasındaki mesafe 756.318 m.\n",
      "Meşhur Özçelik Aspava ile Kuğulu Park arasındaki mesafe 717.2538 m.\n",
      "Meşhur Özçelik Aspava ile Seğmenler Park (Seğmenler Parkı) arasındaki mesafe 1181.5187 m.\n",
      "Cafe Bien ile Umumi arasındaki mesafe 1372.9181 m.\n",
      "Cafe Bien ile Brasserie Bomonti arasındaki mesafe 159.41142 m.\n",
      "Cafe Bien ile Siyah Beyaz arasındaki mesafe 735.99255 m.\n",
      "Cafe Bien ile IF Performance Hall arasındaki mesafe 612.4216 m.\n",
      "Cafe Bien ile Kite Ankara arasındaki mesafe 1060.7797 m.\n",
      "Next Level ile Keifi arasındaki mesafe 50.100918 m.\n",
      "Next Level ile Starbucks arasındaki mesafe 25.491165 m.\n",
      "Next Level ile Cinemaximum arasındaki mesafe 37.86443 m.\n"
     ]
    },
    {
     "name": "stdout",
     "output_type": "stream",
     "text": [
      "Next Level ile Big Chefs arasındaki mesafe 108.91422 m.\n",
      "Next Level ile Armada arasındaki mesafe 371.19836 m.\n",
      "Liva Pastanesi ile Taurus arasındaki mesafe 1848.3195 m.\n",
      "Liva Pastanesi ile Marco Pascha arasındaki mesafe 463.06232 m.\n",
      "Liva Pastanesi ile Kentpark arasındaki mesafe 2866.0266 m.\n",
      "Liva Pastanesi ile Mado arasındaki mesafe 69.2479 m.\n",
      "Liva Pastanesi ile Armada arasındaki mesafe 910.30896 m.\n",
      "Barbella Cafe-Bar ile Kızılay Square (Kızılay Meydanı) arasındaki mesafe 250.9395 m.\n",
      "Barbella Cafe-Bar ile Turuncu Cafe Pub arasındaki mesafe 78.92645 m.\n",
      "Barbella Cafe-Bar ile Ezgi Cafe arasındaki mesafe 87.972565 m.\n",
      "Barbella Cafe-Bar ile Mascha arasındaki mesafe 3.8639193 m.\n",
      "Barbella Cafe-Bar ile Fox arasındaki mesafe 1.080477 m.\n",
      "ANKAmall Teras ile Kızılay Square (Kızılay Meydanı) arasındaki mesafe 3844.701 m.\n",
      "ANKAmall Teras ile Cinemaximum arasındaki mesafe 100.82916 m.\n",
      "ANKAmall Teras ile Starbucks arasındaki mesafe 154.13858 m.\n",
      "ANKAmall Teras ile Özsüt arasındaki mesafe 39.69572 m.\n",
      "ANKAmall Teras ile ANKAmall arasındaki mesafe 153.54555 m.\n",
      "Timboo Cafe ile Cinemaximum arasındaki mesafe 45.617035 m.\n",
      "Timboo Cafe ile Kahve Dünyası arasındaki mesafe 30.57111 m.\n",
      "Timboo Cafe ile Starbucks arasındaki mesafe 76.4095 m.\n",
      "Timboo Cafe ile Armada arasındaki mesafe 31.272034 m.\n",
      "Timboo Cafe ile Mado arasındaki mesafe 38.619686 m.\n",
      "Most Life Club ile Kentpark arasındaki mesafe 131.51668 m.\n",
      "Most Life Club ile Bolu Mangalzade arasındaki mesafe 149.73048 m.\n",
      "Most Life Club ile Starbucks arasındaki mesafe 61.148056 m.\n",
      "Most Life Club ile Timboo Cafe arasındaki mesafe 216.19258 m.\n",
      "Most Life Club ile Cepa arasındaki mesafe 263.47778 m.\n",
      "Makara ile Doyurucu arasındaki mesafe 89.21807 m.\n",
      "Makara ile ODTÜ Tenis Kortları arasındaki mesafe 10.981848 m.\n",
      "Makara ile ODTÜ Black Ball arasındaki mesafe 6.3314486 m.\n",
      "Makara ile Susam arasındaki mesafe 27.052813 m.\n",
      "Makara ile Sunshine arasındaki mesafe 364.78363 m.\n",
      "Pool Pub ile Newcastle arasındaki mesafe 200.8885 m.\n",
      "Pool Pub ile Park Ehlikeyf arasındaki mesafe 1455.6112 m.\n",
      "Pool Pub ile Starbucks arasındaki mesafe 183.02005 m.\n",
      "Pool Pub ile Dürüm Aspava arasındaki mesafe 850.4056 m.\n",
      "Pool Pub ile Arcadium arasındaki mesafe 186.04051 m.\n",
      "Figen Pastaneleri ile Kırık Oklava arasındaki mesafe 76.79268 m.\n",
      "Figen Pastaneleri ile Kocatepe Kahve Evi arasındaki mesafe 175.90335 m.\n",
      "Figen Pastaneleri ile Kızılay Square (Kızılay Meydanı) arasındaki mesafe 1962.65 m.\n",
      "Figen Pastaneleri ile Kahveci Hacıbaba arasındaki mesafe 333.1081 m.\n",
      "Figen Pastaneleri ile Kurtuluş Parkı arasındaki mesafe 929.26355 m.\n",
      "Susam ile Doyurucu arasındaki mesafe 90.8043 m.\n",
      "Susam ile ODTÜ Tenis Kortları arasındaki mesafe 23.19405 m.\n",
      "Susam ile ODTÜ Black Ball arasındaki mesafe 22.340149 m.\n",
      "Susam ile Çatı Cafe arasındaki mesafe 503.27158 m.\n",
      "Susam ile Sunshine arasındaki mesafe 364.55045 m.\n",
      "Mısır Cafe ile Profesör Kokoreç arasındaki mesafe 51.980885 m.\n",
      "Mısır Cafe ile Brasserie Bomonti arasındaki mesafe 146.41226 m.\n",
      "Mısır Cafe ile Kuğulu Park arasındaki mesafe 541.8936 m.\n",
      "Mısır Cafe ile Seğmenler Park (Seğmenler Parkı) arasındaki mesafe 1238.4176 m.\n",
      "Mısır Cafe ile Leman Kültür arasındaki mesafe 19.712626 m.\n",
      "Pixel ile IF Performance Hall arasındaki mesafe 693.5635 m.\n",
      "Pixel ile 6:45 Kaybedenler Kulübü arasındaki mesafe 14.986588 m.\n",
      "Pixel ile Puhu arasındaki mesafe 120.97872 m.\n",
      "Pixel ile Kite Ankara arasındaki mesafe 934.334 m.\n",
      "Pixel ile Devrez arasındaki mesafe 799.21234 m.\n",
      "Dürüm Aspava ile Park Ehlikeyf arasındaki mesafe 739.6461 m.\n",
      "Dürüm Aspava ile Narquilla arasındaki mesafe 740.3809 m.\n",
      "Dürüm Aspava ile Starbucks arasındaki mesafe 562.00824 m.\n",
      "Dürüm Aspava ile Pool Pub arasındaki mesafe 850.4056 m.\n",
      "Dürüm Aspava ile Gordion arasındaki mesafe 2768.1467 m.\n",
      "Kahve Adası ile Güvenpark arasındaki mesafe 367.37576 m.\n",
      "Kahve Adası ile Kızılay Square (Kızılay Meydanı) arasındaki mesafe 459.30118 m.\n",
      "Kahve Adası ile Hayat Bi Geyik arasındaki mesafe 14.222759 m.\n",
      "Kahve Adası ile Ezgi Cafe arasındaki mesafe 174.73857 m.\n",
      "Kahve Adası ile Koliba arasındaki mesafe 34.77359 m.\n",
      "Mado ile Rolling Ball Bowling arasındaki mesafe 142.4946 m.\n",
      "Mado ile Kentpark arasındaki mesafe 63.823635 m.\n",
      "Mado ile Prestige Cinema arasındaki mesafe 50.870827 m.\n",
      "Mado ile Starbucks arasındaki mesafe 103.21549 m.\n",
      "Mado ile Cepa arasındaki mesafe 125.23649 m.\n",
      "Tchibo ile Cookshop arasındaki mesafe 22.827703 m.\n",
      "Tchibo ile H&M arasındaki mesafe 54.758625 m.\n",
      "Tchibo ile Cinemaximum arasındaki mesafe 161.2317 m.\n",
      "Tchibo ile Gordion arasındaki mesafe 45.596443 m.\n",
      "Tchibo ile Starbucks arasındaki mesafe 6.4041357 m.\n",
      "Bauhaus ile Kentpark arasındaki mesafe 304.92477 m.\n",
      "Bauhaus ile Gordion arasındaki mesafe 7544.1953 m.\n",
      "Bauhaus ile Cepa arasındaki mesafe 223.88087 m.\n",
      "Bauhaus ile Starbucks arasındaki mesafe 218.89427 m.\n",
      "Bauhaus ile ANKAmall arasındaki mesafe 6290.3433 m.\n",
      "Kocatepe Kahve Evi ile Taurus arasındaki mesafe 4.494977 m.\n",
      "Kocatepe Kahve Evi ile Starbucks arasındaki mesafe 132.29128 m.\n",
      "Kocatepe Kahve Evi ile Cinemarine arasındaki mesafe 66.58321 m.\n",
      "Kocatepe Kahve Evi ile Liva Pastanesi arasındaki mesafe 144.82863 m.\n",
      "Kocatepe Kahve Evi ile ANKAmall arasındaki mesafe 7174.1025 m.\n",
      "Mado ile Marco Pascha arasındaki mesafe 395.59268 m.\n",
      "Mado ile Kentpark arasındaki mesafe 2875.2888 m.\n",
      "Mado ile Liva Pastanesi arasındaki mesafe 69.2479 m.\n",
      "Mado ile Kahveci Hacıbaba arasındaki mesafe 389.3522 m.\n",
      "Mado ile Armada arasındaki mesafe 979.39496 m.\n",
      "Yıldız Aspava ile Kızılay Square (Kızılay Meydanı) arasındaki mesafe 1917.6177 m.\n",
      "Yıldız Aspava ile Brasserie Bomonti arasındaki mesafe 758.17975 m.\n",
      "Yıldız Aspava ile Kuğulu Park arasındaki mesafe 708.7993 m.\n",
      "Yıldız Aspava ile Seğmenler Park (Seğmenler Parkı) arasındaki mesafe 1168.0103 m.\n",
      "IF Performance Hall ile Brasserie Bomonti arasındaki mesafe 585.0375 m.\n",
      "IF Performance Hall ile Yıldız Aspava arasındaki mesafe 1094.3168 m.\n",
      "IF Performance Hall ile Passage arasındaki mesafe 1341.0616 m.\n",
      "IF Performance Hall ile Kite Ankara arasındaki mesafe 1464.0876 m.\n",
      "IF Performance Hall ile Devrez arasındaki mesafe 1295.7817 m.\n",
      "Gordion ile Cookshop arasındaki mesafe 28.773888 m.\n",
      "Gordion ile Hmbrgr - Homemade Burgers arasındaki mesafe 116.1422 m.\n",
      "Gordion ile Kentpark arasındaki mesafe 7325.179 m.\n",
      "Gordion ile Cinemaximum arasındaki mesafe 118.751595 m.\n",
      "Gordion ile Starbucks arasındaki mesafe 51.42591 m.\n",
      "Karum ile Kızılay Square (Kızılay Meydanı) arasındaki mesafe 2406.61 m.\n",
      "Karum ile Kuğulu Park arasındaki mesafe 349.24643 m.\n",
      "Karum ile Seğmenler Park (Seğmenler Parkı) arasındaki mesafe 450.97955 m.\n",
      "Karum ile ANKAmall arasındaki mesafe 6288.2344 m.\n",
      "Karum ile Leman Kültür arasındaki mesafe 823.5149 m.\n",
      "Louise Brasserie & Lounge ile Tren Ankara arasındaki mesafe 163.0068 m.\n",
      "Louise Brasserie & Lounge ile Öküz arasındaki mesafe 5929.26 m.\n",
      "Louise Brasserie & Lounge ile La Gioia Cafe Brasserie arasındaki mesafe 881.4929 m.\n",
      "Louise Brasserie & Lounge ile Gaga Manjero arasındaki mesafe 206.90398 m.\n",
      "Louise Brasserie & Lounge ile Albüm arasındaki mesafe 169.93948 m.\n",
      "Starbucks ile D&R arasındaki mesafe 134.6748 m.\n",
      "Starbucks ile Karum arasındaki mesafe 429.5131 m.\n",
      "Starbucks ile Kuğulu Park arasındaki mesafe 113.22962 m.\n",
      "Starbucks ile Seğmenler Park (Seğmenler Parkı) arasındaki mesafe 810.0964 m.\n",
      "Starbucks ile Leman Kültür arasındaki mesafe 427.96204 m.\n",
      "Atatürk Forest Farm (Atatürk Orman Çiftliği) ile Şençam Köftecisi arasındaki mesafe 5.368119 m.\n",
      "Atatürk Forest Farm (Atatürk Orman Çiftliği) ile Park Center arasındaki mesafe 313.98 m.\n",
      "Atatürk Forest Farm (Atatürk Orman Çiftliği) ile Özdemir Kokoreç arasındaki mesafe 37.857403 m.\n",
      "Atatürk Forest Farm (Atatürk Orman Çiftliği) ile Doğata arasındaki mesafe 30.29185 m.\n",
      "Atatürk Forest Farm (Atatürk Orman Çiftliği) ile ANKAmall arasındaki mesafe 3312.1023 m.\n",
      "Escape ile Checkpoint Terrace arasındaki mesafe 56.716328 m.\n",
      "Escape ile Dürüm Aspava arasındaki mesafe 697.88635 m.\n",
      "Escape ile Blackk Ankara arasındaki mesafe 15971.928 m.\n",
      "Escape ile Devrez arasındaki mesafe 16429.924 m.\n",
      "Escape ile Salata arasındaki mesafe 2513.8062 m.\n",
      "Adana Sofrası ile Starbucks arasındaki mesafe 146.67653 m.\n",
      "Adana Sofrası ile Hasbihal Yıldız arasındaki mesafe 136.33136 m.\n",
      "Adana Sofrası ile Pool Pub arasındaki mesafe 2552.7095 m.\n",
      "Adana Sofrası ile Liva Pastanesi arasındaki mesafe 735.49805 m.\n",
      "Kahveci Hacıbaba ile Kocatepe Kahve Evi arasındaki mesafe 158.88258 m.\n",
      "Kahveci Hacıbaba ile Kızılay Square (Kızılay Meydanı) arasındaki mesafe 1631.0104 m.\n",
      "Kahveci Hacıbaba ile Figen Pastaneleri arasındaki mesafe 333.1081 m.\n",
      "Kahveci Hacıbaba ile Kurtuluş Parkı arasındaki mesafe 597.41815 m.\n",
      "Kahveci Hacıbaba ile ANKAmall arasındaki mesafe 4154.571 m.\n",
      "6:45 Kaybedenler Kulübü ile Brasserie Bomonti arasındaki mesafe 129.70183 m.\n",
      "6:45 Kaybedenler Kulübü ile Twister arasındaki mesafe 110.91046 m.\n",
      "6:45 Kaybedenler Kulübü ile Pixel arasındaki mesafe 14.986588 m.\n",
      "6:45 Kaybedenler Kulübü ile IF Performance Hall arasındaki mesafe 684.9908 m.\n",
      "6:45 Kaybedenler Kulübü ile Devrez arasındaki mesafe 793.16235 m.\n",
      "ODTÜ Kocatepe Kahve Evi ile BARikaT #1538 arasındaki mesafe 901.0315 m.\n",
      "ODTÜ Kocatepe Kahve Evi ile Kentpark arasındaki mesafe 2552.6296 m.\n",
      "ODTÜ Kocatepe Kahve Evi ile BlackStation Pub arasındaki mesafe 884.41205 m.\n",
      "ODTÜ Kocatepe Kahve Evi ile Çatı Cafe arasındaki mesafe 779.98206 m.\n",
      "ODTÜ Kocatepe Kahve Evi ile Sunshine arasındaki mesafe 11.860792 m.\n",
      "Köroğlu İşkembecisi ile Marco Pascha arasındaki mesafe 235.85855 m.\n",
      "Köroğlu İşkembecisi ile Liva Pastanesi arasındaki mesafe 238.04114 m.\n",
      "Köroğlu İşkembecisi ile Mado arasındaki mesafe 177.18727 m.\n",
      "Köroğlu İşkembecisi ile Kahveci Hacıbaba arasındaki mesafe 234.48024 m.\n",
      "Köroğlu İşkembecisi ile Otto Lounge arasındaki mesafe 89.56171 m.\n",
      "Cinemarine ile El Paso arasındaki mesafe 68.25991 m.\n",
      "Cinemarine ile Taurus arasındaki mesafe 70.02988 m.\n",
      "Cinemarine ile Starbucks arasındaki mesafe 69.41326 m.\n",
      "Cinemarine ile Kocatepe Kahve Evi arasındaki mesafe 66.58321 m.\n",
      "Cinemarine ile Liva Pastanesi arasındaki mesafe 85.76753 m.\n",
      "Café des Cafés ile Elizinn arasındaki mesafe 37.09587 m.\n",
      "Café des Cafés ile Brasserie Bomonti arasındaki mesafe 307.3335 m.\n",
      "Café des Cafés ile Starbucks arasındaki mesafe 363.16553 m.\n",
      "Café des Cafés ile Kuğulu Park arasındaki mesafe 473.54028 m.\n",
      "Café des Cafés ile Seğmenler Park (Seğmenler Parkı) arasındaki mesafe 1138.4249 m.\n",
      "OT ile Brasserie Bomonti arasındaki mesafe 103.27523 m.\n",
      "OT ile 6:45 Kaybedenler Kulübü arasındaki mesafe 133.14693 m.\n",
      "OT ile Kuğulu Park arasındaki mesafe 577.573 m.\n",
      "OT ile Seğmenler Park (Seğmenler Parkı) arasındaki mesafe 1278.0405 m.\n",
      "OT ile Leman Kültür arasındaki mesafe 82.72644 m.\n",
      "Victoria ile Taurus arasındaki mesafe 1576.0259 m.\n",
      "Victoria ile Kızılay Square (Kızılay Meydanı) arasındaki mesafe 3722.2634 m.\n",
      "Victoria ile Dikmen Vadisi arasındaki mesafe 1280.993 m.\n",
      "Victoria ile Combo Lunch arasındaki mesafe 111.11734 m.\n",
      "Victoria ile Öveçler Vadisi arasındaki mesafe 331.9572 m.\n",
      "Liva Pastanesi ile Starbucks arasındaki mesafe 754.1987 m.\n",
      "Liva Pastanesi ile 365 arasındaki mesafe 1236.8536 m.\n",
      "Anıtkabir ile Kızılay Square (Kızılay Meydanı) arasındaki mesafe 1635.407 m.\n",
      "Anıtkabir ile Kızılay AVM arasındaki mesafe 1371.674 m.\n",
      "Anıtkabir ile Gençlik Parkı arasındaki mesafe 1804.5245 m.\n",
      "Anıtkabir ile Aslanlı Yol arasındaki mesafe 135.0261 m.\n",
      "Anıtkabir ile ANKAmall arasındaki mesafe 2759.9426 m.\n",
      "HD İskender ile Kızılay Square (Kızılay Meydanı) arasındaki mesafe 3805.186 m.\n",
      "HD İskender ile Cinemaximum arasındaki mesafe 76.763115 m.\n",
      "HD İskender ile Starbucks arasındaki mesafe 157.16437 m.\n",
      "HD İskender ile Özsüt arasındaki mesafe 26.319822 m.\n",
      "HD İskender ile ANKAmall arasındaki mesafe 158.84926 m.\n",
      "Atatürk ve Kurtuluş Savaşı Müzesi ile Tandoğan Square (Tandoğan Meydanı) arasındaki mesafe 973.8013 m.\n",
      "Atatürk ve Kurtuluş Savaşı Müzesi ile Kızılay Square (Kızılay Meydanı) arasındaki mesafe 1547.6886 m.\n",
      "Atatürk ve Kurtuluş Savaşı Müzesi ile Kızılay AVM arasındaki mesafe 1268.4258 m.\n",
      "Atatürk ve Kurtuluş Savaşı Müzesi ile Aslanlı Yol arasındaki mesafe 115.42589 m.\n",
      "Atatürk ve Kurtuluş Savaşı Müzesi ile ANKAmall arasındaki mesafe 2895.158 m.\n",
      "Turuncu Cafe Pub ile Kızılay Square (Kızılay Meydanı) arasındaki mesafe 323.4991 m.\n",
      "Turuncu Cafe Pub ile Kahveci Hacıbaba arasındaki mesafe 128.9248 m.\n",
      "Turuncu Cafe Pub ile Barbella Cafe-Bar arasındaki mesafe 78.92645 m.\n",
      "Turuncu Cafe Pub ile Ezgi Cafe arasındaki mesafe 50.29475 m.\n",
      "Turuncu Cafe Pub ile Koliba arasındaki mesafe 227.91689 m.\n",
      "Starbucks ile Timboo Cafe arasındaki mesafe 45.946903 m.\n",
      "Starbucks ile Botanical Park (Botanik Parkı) arasındaki mesafe 194.66724 m.\n",
      "Starbucks ile Big Chefs arasındaki mesafe 42.331936 m.\n",
      "Starbucks ile Atakule arasındaki mesafe 39.43379 m.\n",
      "Starbucks ile Seğmenler Park (Seğmenler Parkı) arasındaki mesafe 1262.885 m.\n",
      "Emirgan Sütiş ile Marco Pascha arasındaki mesafe 39.772865 m.\n",
      "Emirgan Sütiş ile Kentpark arasındaki mesafe 3065.4304 m.\n",
      "Emirgan Sütiş ile Next Level arasındaki mesafe 1170.9456 m.\n",
      "Emirgan Sütiş ile Kahveci Hacıbaba arasındaki mesafe 48.416862 m.\n",
      "Emirgan Sütiş ile Armada arasındaki mesafe 1410.1456 m.\n",
      "Luppa ile MACFit arasındaki mesafe 428.13553 m.\n",
      "Luppa ile Starbucks arasındaki mesafe 36.35182 m.\n",
      "Luppa ile Karum arasındaki mesafe 159.52565 m.\n",
      "Luppa ile Kuğulu Park arasındaki mesafe 420.18048 m.\n",
      "Luppa ile Seğmenler Park (Seğmenler Parkı) arasındaki mesafe 301.8796 m.\n",
      "May 19 Stadium (19 Mayıs Stadyumu) ile Ankara Arena arasındaki mesafe 304.28415 m.\n",
      "May 19 Stadium (19 Mayıs Stadyumu) ile Kızılay Square (Kızılay Meydanı) arasındaki mesafe 2201.6868 m.\n",
      "May 19 Stadium (19 Mayıs Stadyumu) ile Atatürk Kültür Merkezi arasındaki mesafe 570.64087 m.\n",
      "May 19 Stadium (19 Mayıs Stadyumu) ile Gençlik Parkı arasındaki mesafe 612.1625 m.\n"
     ]
    },
    {
     "name": "stdout",
     "output_type": "stream",
     "text": [
      "May 19 Stadium (19 Mayıs Stadyumu) ile ANKAmall arasındaki mesafe 1807.4233 m.\n",
      "Doğata ile Park Center arasındaki mesafe 318.48584 m.\n",
      "Doğata ile Kentpark arasındaki mesafe 3692.4602 m.\n",
      "Doğata ile Atatürk Forest Farm (Atatürk Orman Çiftliği) arasındaki mesafe 30.29185 m.\n",
      "Doğata ile Kahveci Hacıbaba arasındaki mesafe 4473.5176 m.\n",
      "Doğata ile ANKAmall arasındaki mesafe 3331.505 m.\n",
      "La Gioia Cafe Brasserie ile Nusr-Et Steakhouse arasındaki mesafe 283.63632 m.\n",
      "La Gioia Cafe Brasserie ile Karum arasındaki mesafe 115.85084 m.\n",
      "La Gioia Cafe Brasserie ile Louise Brasserie & Lounge arasındaki mesafe 881.4929 m.\n",
      "La Gioia Cafe Brasserie ile Kuğulu Park arasındaki mesafe 244.94395 m.\n",
      "La Gioia Cafe Brasserie ile Seğmenler Park (Seğmenler Parkı) arasındaki mesafe 486.05203 m.\n",
      "Starbucks ile Cookshop arasındaki mesafe 26.80058 m.\n",
      "Starbucks ile Hmbrgr - Homemade Burgers arasındaki mesafe 163.75366 m.\n",
      "Starbucks ile Cinemaximum arasındaki mesafe 167.57681 m.\n",
      "Starbucks ile Gordion arasındaki mesafe 51.42591 m.\n",
      "Starbucks ile MACFit arasındaki mesafe 173.2853 m.\n",
      "Eskiyeni ile Nefes Bar arasındaki mesafe 188.96724 m.\n",
      "Eskiyeni ile Kızılay Square (Kızılay Meydanı) arasındaki mesafe 255.81113 m.\n",
      "Eskiyeni ile Telwe arasındaki mesafe 17.078512 m.\n",
      "Eskiyeni ile IF Performance Hall arasındaki mesafe 1186.1805 m.\n",
      "Eskiyeni ile Passage arasındaki mesafe 155.60674 m.\n",
      "Gelato Ice & Caffé ile Kentpark arasındaki mesafe 79.19367 m.\n",
      "Gelato Ice & Caffé ile Prestige Cinema arasındaki mesafe 38.093796 m.\n",
      "Gelato Ice & Caffé ile Starbucks arasındaki mesafe 43.838924 m.\n",
      "Gelato Ice & Caffé ile Timboo Cafe arasındaki mesafe 174.86389 m.\n",
      "Gelato Ice & Caffé ile Cepa arasındaki mesafe 199.28084 m.\n",
      "Arcadium ile Mado arasındaki mesafe 43.656803 m.\n",
      "Arcadium ile Starbucks arasındaki mesafe 46.759018 m.\n",
      "Arcadium ile Timboo Cafe arasındaki mesafe 29.693012 m.\n",
      "Arcadium ile Gordion arasındaki mesafe 2074.2493 m.\n",
      "Arcadium ile Arcadium Sinemaları arasındaki mesafe 69.86311 m.\n",
      "Kuğulu Park ile Kızılay Square (Kızılay Meydanı) arasındaki mesafe 2119.1204 m.\n",
      "Kuğulu Park ile Starbucks arasındaki mesafe 113.22962 m.\n",
      "Kuğulu Park ile Kıtır arasındaki mesafe 46.693398 m.\n",
      "Kuğulu Park ile Seğmenler Park (Seğmenler Parkı) arasındaki mesafe 701.6835 m.\n",
      "Kuğulu Park ile Leman Kültür arasındaki mesafe 540.5455 m.\n",
      "Kahve Dünyası ile Starbucks arasındaki mesafe 159.35664 m.\n",
      "Kahve Dünyası ile Pool Pub arasındaki mesafe 147.74234 m.\n",
      "Kahve Dünyası ile Seğmenler Park (Seğmenler Parkı) arasındaki mesafe 1252.3716 m.\n",
      "Kahve Dünyası ile Ankara Şehir Kulübü arasındaki mesafe 217.91908 m.\n",
      "Ezgi Cafe ile Güvenpark arasındaki mesafe 249.86511 m.\n",
      "Ezgi Cafe ile Kızılay Square (Kızılay Meydanı) arasındaki mesafe 303.46756 m.\n",
      "Ezgi Cafe ile Kahveci Hacıbaba arasındaki mesafe 161.13867 m.\n",
      "Ezgi Cafe ile Turuncu Cafe Pub arasındaki mesafe 50.29475 m.\n",
      "Ezgi Cafe ile Kızılay AVM arasındaki mesafe 525.2915 m.\n",
      "MACFit ile Cookshop arasındaki mesafe 153.13153 m.\n",
      "MACFit ile Cinemaximum arasındaki mesafe 5.7403975 m.\n",
      "MACFit ile Starbucks arasındaki mesafe 2233.477 m.\n",
      "MACFit ile Gordion arasındaki mesafe 124.357765 m.\n",
      "MACFit ile Starbucks arasındaki mesafe 173.2853 m.\n",
      "Blackk Ankara ile Beykoz Çorbacısı arasındaki mesafe 2067.658 m.\n",
      "Blackk Ankara ile Köroğlu İşkembecisi arasındaki mesafe 1538.1545 m.\n",
      "Blackk Ankara ile IF Performance Hall arasındaki mesafe 1312.6522 m.\n",
      "Blackk Ankara ile Passage arasındaki mesafe 2554.2402 m.\n",
      "Blackk Ankara ile Devrez arasındaki mesafe 538.1781 m.\n",
      "Nil Bar ile Kızılay Square (Kızılay Meydanı) arasındaki mesafe 306.39465 m.\n",
      "Nil Bar ile Up Lost Pub & Performance arasındaki mesafe 16.7313 m.\n",
      "Nil Bar ile Telwe arasındaki mesafe 70.31601 m.\n",
      "Nil Bar ile Eskiyeni arasındaki mesafe 73.3296 m.\n",
      "Nil Bar ile Passage arasındaki mesafe 166.92741 m.\n",
      "BlackStation Pub ile Central Ankara arasındaki mesafe 277.99835 m.\n",
      "BlackStation Pub ile BARikaT #1538 arasındaki mesafe 16.653534 m.\n",
      "BlackStation Pub ile Bla Bla Bistro Pub arasındaki mesafe 38.496788 m.\n",
      "BlackStation Pub ile Müjgan arasındaki mesafe 9.161509 m.\n",
      "BlackStation Pub ile Toolbar arasındaki mesafe 60.37702 m.\n",
      "Starbucks ile Kızılay Square (Kızılay Meydanı) arasındaki mesafe 3895.4004 m.\n",
      "Starbucks ile Cinemaximum arasındaki mesafe 102.81409 m.\n",
      "Starbucks ile MACFit arasındaki mesafe 148.70387 m.\n",
      "Starbucks ile Özsüt arasındaki mesafe 179.00742 m.\n",
      "Starbucks ile ANKAmall arasındaki mesafe 8.387814 m.\n",
      "Mascha ile Kızılay Square (Kızılay Meydanı) arasındaki mesafe 254.76288 m.\n",
      "Mascha ile Telwe arasındaki mesafe 364.82245 m.\n",
      "Mascha ile Barbella Cafe-Bar arasındaki mesafe 3.8639193 m.\n",
      "Mascha ile Turuncu Cafe Pub arasındaki mesafe 75.78825 m.\n",
      "Mascha ile Fox arasındaki mesafe 3.2389307 m.\n",
      "Mickey's by Las Chicas ile Cinemaximum arasındaki mesafe 49.568653 m.\n",
      "Mickey's by Las Chicas ile Starbucks arasındaki mesafe 40.106663 m.\n",
      "Mickey's by Las Chicas ile Timboo Cafe arasındaki mesafe 42.51792 m.\n",
      "Mickey's by Las Chicas ile Armada arasındaki mesafe 36.48338 m.\n",
      "Mickey's by Las Chicas ile Mado arasındaki mesafe 8.302953 m.\n",
      "Cepa ile Kentpark arasındaki mesafe 175.06477 m.\n",
      "Cepa ile Starbucks arasındaki mesafe 228.40999 m.\n",
      "Cepa ile Timboo Cafe arasındaki mesafe 216.57475 m.\n",
      "Cepa ile Starbucks arasındaki mesafe 29.113379 m.\n",
      "Cepa ile Cinemaximum arasındaki mesafe 17.09396 m.\n",
      "Kızılay AVM ile Güvenpark arasındaki mesafe 287.83334 m.\n",
      "Kızılay AVM ile Starbucks arasındaki mesafe 343.64062 m.\n",
      "Kızılay AVM ile Kızılay Square (Kızılay Meydanı) arasındaki mesafe 356.42233 m.\n",
      "Kızılay AVM ile Kahveci Hacıbaba arasındaki mesafe 593.21027 m.\n",
      "Kızılay AVM ile ANKAmall arasındaki mesafe 3821.1362 m.\n",
      "Puhu ile Profesör Kokoreç arasındaki mesafe 13.43953 m.\n",
      "Puhu ile Brasserie Bomonti arasındaki mesafe 191.10316 m.\n",
      "Puhu ile Corvus arasındaki mesafe 4.142519 m.\n",
      "Puhu ile IF Performance Hall arasındaki mesafe 659.186 m.\n",
      "Puhu ile Passage arasındaki mesafe 1927.8796 m.\n",
      "Gaga Manjero ile Brasserie Bomonti arasındaki mesafe 1375.0531 m.\n",
      "Gaga Manjero ile Cafe Bien arasındaki mesafe 1291.1383 m.\n",
      "Gaga Manjero ile IF Performance Hall arasındaki mesafe 1895.2626 m.\n",
      "Gaga Manjero ile Blackk Ankara arasındaki mesafe 622.9218 m.\n",
      "Gaga Manjero ile Seğmenler Park (Seğmenler Parkı) arasındaki mesafe 626.18915 m.\n",
      "Kıtır ile ÜstKat arasındaki mesafe 48.170002 m.\n",
      "Kıtır ile Brasserie Bomonti arasındaki mesafe 503.48273 m.\n",
      "Kıtır ile Starbucks arasındaki mesafe 92.211815 m.\n",
      "Kıtır ile Kuğulu Park arasındaki mesafe 46.693398 m.\n",
      "Kıtır ile Seğmenler Park (Seğmenler Parkı) arasındaki mesafe 740.8442 m.\n",
      "Cinemaximum ile Keifi arasındaki mesafe 13.013422 m.\n",
      "Cinemaximum ile Starbucks arasındaki mesafe 39.144302 m.\n",
      "Cinemaximum ile Next Level arasındaki mesafe 37.86443 m.\n",
      "Cinemaximum ile Big Chefs arasındaki mesafe 82.70575 m.\n",
      "Cinemaximum ile Armada arasındaki mesafe 369.09305 m.\n",
      "Atatürk Kültür Merkezi ile Ankara Arena arasındaki mesafe 609.79333 m.\n",
      "Atatürk Kültür Merkezi ile Tandoğan Square (Tandoğan Meydanı) arasındaki mesafe 967.97595 m.\n",
      "Atatürk Kültür Merkezi ile Kızılay Square (Kızılay Meydanı) arasındaki mesafe 2685.9473 m.\n",
      "Atatürk Kültür Merkezi ile Gençlik Parkı arasındaki mesafe 1177.2457 m.\n",
      "Atatürk Kültür Merkezi ile ANKAmall arasındaki mesafe 1247.2617 m.\n",
      "Kahveci Hacıbaba ile Taurus arasındaki mesafe 1391.2858 m.\n",
      "Kahveci Hacıbaba ile Marco Pascha arasındaki mesafe 18.544542 m.\n",
      "Kahveci Hacıbaba ile Kentpark arasındaki mesafe 3030.1294 m.\n",
      "Kahveci Hacıbaba ile Emirgan Sütiş arasındaki mesafe 48.416862 m.\n",
      "Kahveci Hacıbaba ile Huqqa arasındaki mesafe 452.4418 m.\n",
      "Luigi's Ristorante Bar ile Timboo Cafe arasındaki mesafe 33.710953 m.\n",
      "Luigi's Ristorante Bar ile Big Chefs arasındaki mesafe 25.26359 m.\n",
      "Luigi's Ristorante Bar ile Vakko arasındaki mesafe 67.09596 m.\n",
      "Luigi's Ristorante Bar ile Starbucks arasındaki mesafe 19.46628 m.\n",
      "Luigi's Ristorante Bar ile Atakule arasındaki mesafe 24.857847 m.\n",
      "Lunapark ile Kızılay Square (Kızılay Meydanı) arasındaki mesafe 1749.3254 m.\n",
      "Lunapark ile Atatürk Forest Farm (Atatürk Orman Çiftliği) arasındaki mesafe 4567.9453 m.\n",
      "Lunapark ile Gençlik Parkı arasındaki mesafe 331.70425 m.\n",
      "Lunapark ile Nostalji Cafe arasındaki mesafe 132.20671 m.\n",
      "Lunapark ile ANKAmall arasındaki mesafe 2269.8386 m.\n",
      "Gençlik Parkı ile Ankara Arena arasındaki mesafe 766.38696 m.\n",
      "Gençlik Parkı ile Kızılay Square (Kızılay Meydanı) arasındaki mesafe 1837.568 m.\n",
      "Gençlik Parkı ile Kızılay AVM arasındaki mesafe 1932.6279 m.\n",
      "Gençlik Parkı ile Lunapark arasındaki mesafe 331.70425 m.\n",
      "Gençlik Parkı ile ANKAmall arasındaki mesafe 2391.2058 m.\n",
      "Otto Lounge ile Ali Baba arasındaki mesafe 834.7106 m.\n",
      "Otto Lounge ile Ehlikeyf Plus arasındaki mesafe 266.78445 m.\n",
      "Otto Lounge ile Marco Pascha arasındaki mesafe 150.78711 m.\n",
      "Otto Lounge ile Kahveci Hacıbaba arasındaki mesafe 152.56517 m.\n",
      "Otto Lounge ile Balkon Nargile arasındaki mesafe 818.5847 m.\n",
      "Liva Pastanesi ile Taurus arasındaki mesafe 147.00851 m.\n",
      "Liva Pastanesi ile Starbucks arasındaki mesafe 20.873636 m.\n",
      "Liva Pastanesi ile Marco Pascha arasındaki mesafe 1394.4163 m.\n",
      "Liva Pastanesi ile Cinemarine arasındaki mesafe 85.76753 m.\n",
      "Liva Pastanesi ile Kahveci Hacıbaba arasındaki mesafe 1398.562 m.\n",
      "Fox ile Kızılay Square (Kızılay Meydanı) arasındaki mesafe 251.77477 m.\n",
      "Fox ile Barbella Cafe-Bar arasındaki mesafe 1.080477 m.\n",
      "Fox ile Turuncu Cafe Pub arasındaki mesafe 77.873856 m.\n",
      "Fox ile Ezgi Cafe arasındaki mesafe 86.968765 m.\n",
      "Fox ile Mascha arasındaki mesafe 3.2389307 m.\n",
      "Big Chefs ile Keifi arasındaki mesafe 72.00474 m.\n",
      "Big Chefs ile Starbucks arasındaki mesafe 120.760284 m.\n",
      "Big Chefs ile Next Level arasındaki mesafe 108.91422 m.\n",
      "Big Chefs ile Godiva arasındaki mesafe 80.195366 m.\n",
      "Big Chefs ile Cinemaximum arasındaki mesafe 82.70575 m.\n",
      "MACFit ile Kızılay Square (Kızılay Meydanı) arasındaki mesafe 4043.3184 m.\n",
      "MACFit ile Cinemaximum arasındaki mesafe 240.01805 m.\n",
      "MACFit ile Starbucks arasındaki mesafe 148.70387 m.\n",
      "MACFit ile Özsüt arasındaki mesafe 276.8084 m.\n",
      "MACFit ile ANKAmall arasındaki mesafe 140.84502 m.\n",
      "Passage ile Meşhur Mithatpaşa İşkembe & Kebapçısı arasındaki mesafe 100.968956 m.\n",
      "Passage ile Telwe arasındaki mesafe 171.64526 m.\n",
      "Passage ile IF Performance Hall arasındaki mesafe 1341.0616 m.\n",
      "Passage ile Eskiyeni arasındaki mesafe 155.60674 m.\n",
      "Passage ile Devrez arasındaki mesafe 2336.0322 m.\n",
      "Nefti ile Starbucks arasındaki mesafe 204.582 m.\n",
      "Nefti ile Pool Pub arasındaki mesafe 193.90988 m.\n",
      "Nefti ile Kahve Dünyası arasındaki mesafe 46.650806 m.\n",
      "Nefti ile Seğmenler Park (Seğmenler Parkı) arasındaki mesafe 1222.8062 m.\n",
      "Atakule ile Botanical Park (Botanik Parkı) arasındaki mesafe 216.9347 m.\n",
      "Atakule ile Kızılay Square (Kızılay Meydanı) arasındaki mesafe 3851.4368 m.\n",
      "Atakule ile Big Chefs arasındaki mesafe 7.3123407 m.\n",
      "Atakule ile Kuğulu Park arasındaki mesafe 1839.9309 m.\n",
      "Karikatür Bi Kafe ile Kızılay Square (Kızılay Meydanı) arasındaki mesafe 507.47864 m.\n",
      "Karikatür Bi Kafe ile Kahveci Hacıbaba arasındaki mesafe 366.84192 m.\n",
      "Karikatür Bi Kafe ile Ezgi Cafe arasındaki mesafe 223.02525 m.\n",
      "Karikatür Bi Kafe ile Kızılay AVM arasındaki mesafe 630.424 m.\n",
      "Karikatür Bi Kafe ile Koliba arasındaki mesafe 18.43165 m.\n",
      "Lozan Parkı ile Starbucks arasındaki mesafe 299.0951 m.\n",
      "Lozan Parkı ile Kızılay Square (Kızılay Meydanı) arasındaki mesafe 5169.1904 m.\n",
      "Lozan Parkı ile 365 arasındaki mesafe 296.52335 m.\n",
      "Lozan Parkı ile Newcastle arasındaki mesafe 319.73633 m.\n",
      "Seğmenler Park (Seğmenler Parkı) ile Kızılay Square (Kızılay Meydanı) arasındaki mesafe 2819.407 m.\n",
      "Seğmenler Park (Seğmenler Parkı) ile Starbucks arasındaki mesafe 337.2527 m.\n",
      "Seğmenler Park (Seğmenler Parkı) ile Karum arasındaki mesafe 450.97955 m.\n",
      "Seğmenler Park (Seğmenler Parkı) ile Kuğulu Park arasındaki mesafe 701.6835 m.\n",
      "Seğmenler Park (Seğmenler Parkı) ile Big Chefs arasındaki mesafe 159.56071 m.\n",
      "Çatı Cafe ile ODTÜ Çarşı arasındaki mesafe 522.13184 m.\n",
      "Çatı Cafe ile ODTÜ Tenis Kortları arasındaki mesafe 515.2475 m.\n",
      "Çatı Cafe ile Kentpark arasındaki mesafe 1986.5602 m.\n",
      "Çatı Cafe ile Cepa arasındaki mesafe 1968.9092 m.\n",
      "Çatı Cafe ile Sunshine arasındaki mesafe 782.3082 m.\n",
      "Kite Ankara ile Beykoz Çorbacısı arasındaki mesafe 1545.6388 m.\n",
      "Kite Ankara ile Yıldız Aspava arasındaki mesafe 1410.1646 m.\n",
      "Kite Ankara ile IF Performance Hall arasındaki mesafe 1464.0876 m.\n",
      "Kite Ankara ile Passage arasındaki mesafe 2799.4683 m.\n",
      "Kite Ankara ile Devrez arasındaki mesafe 1440.5962 m.\n",
      "Armada ile Cinemaximum arasındaki mesafe 68.57546 m.\n",
      "Armada ile Starbucks arasındaki mesafe 76.58651 m.\n",
      "Armada ile Timboo Cafe arasındaki mesafe 31.272034 m.\n",
      "Armada ile Mickey's by Las Chicas arasındaki mesafe 36.48338 m.\n",
      "Armada ile Mado arasındaki mesafe 28.380136 m.\n",
      "Özsüt ile Kızılay Square (Kızılay Meydanı) arasındaki mesafe 3806.3945 m.\n",
      "Özsüt ile Cinemaximum arasındaki mesafe 103.06306 m.\n",
      "Özsüt ile ANKAmall Teras arasındaki mesafe 39.69572 m.\n",
      "Özsüt ile Starbucks arasındaki mesafe 179.00742 m.\n",
      "Özsüt ile ANKAmall arasındaki mesafe 179.9437 m.\n",
      "Devrez ile Brasserie Bomonti arasındaki mesafe 914.9295 m.\n",
      "Devrez ile Meşhur Özçelik Aspava arasındaki mesafe 219.64043 m.\n",
      "Devrez ile Kuğulu Park arasındaki mesafe 741.03357 m.\n",
      "Devrez ile Blackk Ankara arasındaki mesafe 538.1781 m.\n",
      "Devrez ile Seğmenler Park (Seğmenler Parkı) arasındaki mesafe 1068.4248 m.\n",
      "Ahmet Arif Parkı ile Kızılay Square (Kızılay Meydanı) arasındaki mesafe 4404.6045 m.\n",
      "Ahmet Arif Parkı ile Meto Dondurma arasındaki mesafe 248.38562 m.\n",
      "Ahmet Arif Parkı ile Dikmen Vadisi arasındaki mesafe 1321.6672 m.\n",
      "Ahmet Arif Parkı ile Hudaverdi Pasta&Bistro arasındaki mesafe 127.86169 m.\n",
      "Ahmet Arif Parkı ile Öveçler Vadisi arasındaki mesafe 900.7983 m.\n",
      "Ankara Şehir Kulübü ile Big Baker arasındaki mesafe 94.523224 m.\n",
      "Ankara Şehir Kulübü ile Starbucks arasındaki mesafe 63.870895 m.\n",
      "Ankara Şehir Kulübü ile Pool Pub arasındaki mesafe 70.27392 m.\n",
      "Ankara Şehir Kulübü ile Kahve Dünyası arasındaki mesafe 217.91908 m.\n",
      "Ankara Şehir Kulübü ile Seğmenler Park (Seğmenler Parkı) arasındaki mesafe 1379.9077 m.\n",
      "Balkon Nargile ile Ali Baba arasındaki mesafe 21.82772 m.\n",
      "Balkon Nargile ile Ehlikeyf Plus arasındaki mesafe 600.757 m.\n",
      "Balkon Nargile ile Next Level arasındaki mesafe 166.54079 m.\n",
      "Balkon Nargile ile Otto Lounge arasındaki mesafe 818.5847 m.\n",
      "Balkon Nargile ile Armada arasındaki mesafe 500.4671 m.\n",
      "Müjgan ile Central Ankara arasındaki mesafe 285.65045 m.\n",
      "Müjgan ile BARikaT #1538 arasındaki mesafe 12.955521 m.\n",
      "Müjgan ile Bla Bla Bistro Pub arasındaki mesafe 29.556892 m.\n",
      "Müjgan ile BlackStation Pub arasındaki mesafe 9.161509 m.\n",
      "Müjgan ile Toolbar arasındaki mesafe 51.219376 m.\n",
      "Koliba ile Kızılay Square (Kızılay Meydanı) arasındaki mesafe 490.4997 m.\n",
      "Koliba ile Telwe arasındaki mesafe 655.9359 m.\n",
      "Koliba ile Kahveci Hacıbaba arasındaki mesafe 356.63635 m.\n",
      "Koliba ile Hayat Bi Geyik arasındaki mesafe 47.419888 m.\n",
      "Koliba ile Karikatür Bi Kafe arasındaki mesafe 18.43165 m.\n",
      "Albüm ile Tren Ankara arasındaki mesafe 10.612388 m.\n",
      "Albüm ile Beykoz Çorbacısı arasındaki mesafe 2167.6648 m.\n",
      "Albüm ile Köroğlu İşkembecisi arasındaki mesafe 606.059 m.\n",
      "Albüm ile Blackk Ankara arasındaki mesafe 996.2386 m.\n",
      "Albüm ile Devrez arasındaki mesafe 1027.2347 m.\n",
      "Klarnet Sahne ile Tren Ankara arasındaki mesafe 6161.939 m.\n",
      "Klarnet Sahne ile Loop arasındaki mesafe 5892.6523 m.\n",
      "Klarnet Sahne ile Öküz arasındaki mesafe 92.09694 m.\n",
      "Klarnet Sahne ile Köroğlu İşkembecisi arasındaki mesafe 925.5762 m.\n",
      "Klarnet Sahne ile Albüm arasındaki mesafe 6167.5107 m.\n",
      "Aslanlı Yol ile Tandoğan Square (Tandoğan Meydanı) arasındaki mesafe 970.3632 m.\n",
      "Aslanlı Yol ile Kızılay Square (Kızılay Meydanı) arasındaki mesafe 1660.7144 m.\n",
      "Aslanlı Yol ile Atatürk ve Kurtuluş Savaşı Müzesi arasındaki mesafe 115.42589 m.\n",
      "Aslanlı Yol ile Gençlik Parkı arasındaki mesafe 1933.9536 m.\n",
      "Aslanlı Yol ile ANKAmall arasındaki mesafe 2862.2078 m.\n",
      "Mado ile Cinemaximum arasındaki mesafe 53.69639 m.\n",
      "Mado ile Starbucks arasındaki mesafe 48.25444 m.\n",
      "Mado ile Timboo Cafe arasındaki mesafe 38.619686 m.\n",
      "Mado ile Mickey's by Las Chicas arasındaki mesafe 8.302953 m.\n"
     ]
    },
    {
     "name": "stdout",
     "output_type": "stream",
     "text": [
      "Mado ile Armada arasındaki mesafe 28.380136 m.\n",
      "Starbucks ile Kentpark arasındaki mesafe 204.09789 m.\n",
      "Starbucks ile Timboo Cafe arasındaki mesafe 243.87401 m.\n",
      "Starbucks ile Bauhaus arasındaki mesafe 218.89427 m.\n",
      "Starbucks ile Cepa arasındaki mesafe 29.113379 m.\n",
      "Starbucks ile Cinemaximum arasındaki mesafe 29.981998 m.\n",
      "Cinemaximum ile Kentpark arasındaki mesafe 178.65706 m.\n",
      "Cinemaximum ile Starbucks arasındaki mesafe 227.53638 m.\n",
      "Cinemaximum ile Timboo Cafe arasındaki mesafe 226.95999 m.\n",
      "Cinemaximum ile Cepa arasındaki mesafe 17.09396 m.\n",
      "Cinemaximum ile Starbucks arasındaki mesafe 29.981998 m.\n",
      "Sunshine ile ODTÜ Tenis Kortları arasındaki mesafe 373.8777 m.\n",
      "Sunshine ile BARikaT #1538 arasındaki mesafe 889.3394 m.\n",
      "Sunshine ile Susam arasındaki mesafe 364.55045 m.\n",
      "Sunshine ile ODTÜ Kocatepe Kahve Evi arasındaki mesafe 11.860792 m.\n",
      "Sunshine ile Toolbar arasındaki mesafe 913.75134 m.\n",
      "Big Chefs ile Brasserie Bomonti arasındaki mesafe 1119.0862 m.\n",
      "Big Chefs ile Karum arasındaki mesafe 294.3255 m.\n",
      "Big Chefs ile La Gioia Cafe Brasserie arasındaki mesafe 343.8966 m.\n",
      "Big Chefs ile Kuğulu Park arasındaki mesafe 575.9418 m.\n",
      "Big Chefs ile Seğmenler Park (Seğmenler Parkı) arasındaki mesafe 159.56071 m.\n",
      "Kurtuluş Parkı ile Güvenpark arasındaki mesafe 1184.7205 m.\n",
      "Kurtuluş Parkı ile Kızılay Square (Kızılay Meydanı) arasındaki mesafe 1054.4379 m.\n",
      "Kurtuluş Parkı ile Kahveci Hacıbaba arasındaki mesafe 597.41815 m.\n",
      "Kurtuluş Parkı ile Kızılay AVM arasındaki mesafe 1384.631 m.\n",
      "Kurtuluş Parkı ile ANKAmall arasındaki mesafe 3867.79 m.\n",
      "Nostalji Cafe ile Kızılay Square (Kızılay Meydanı) arasındaki mesafe 1669.2677 m.\n",
      "Nostalji Cafe ile Kızılay AVM arasındaki mesafe 1727.8602 m.\n",
      "Nostalji Cafe ile Lunapark arasındaki mesafe 132.20671 m.\n",
      "Nostalji Cafe ile Gençlik Parkı arasındaki mesafe 265.07996 m.\n",
      "Nostalji Cafe ile ANKAmall arasındaki mesafe 2391.9863 m.\n",
      "ANKAmall ile Kızılay Square (Kızılay Meydanı) arasındaki mesafe 3902.9482 m.\n",
      "ANKAmall ile Cinemaximum arasındaki mesafe 107.81181 m.\n",
      "ANKAmall ile HD İskender arasındaki mesafe 158.84926 m.\n",
      "ANKAmall ile Starbucks arasındaki mesafe 8.387814 m.\n",
      "ANKAmall ile Özsüt arasındaki mesafe 179.9437 m.\n",
      "Toolbar ile BARikaT #1538 arasındaki mesafe 51.865566 m.\n",
      "Toolbar ile Bla Bla Bistro Pub arasındaki mesafe 24.29397 m.\n",
      "Toolbar ile Öküz arasındaki mesafe 1633.3243 m.\n",
      "Toolbar ile IF Performance Hall arasındaki mesafe 5277.8037 m.\n",
      "Toolbar ile BlackStation Pub arasındaki mesafe 60.37702 m.\n",
      "HD İskender ile Starbucks arasındaki mesafe 595.3554 m.\n",
      "HD İskender ile 365 arasındaki mesafe 15.29126 m.\n",
      "HD İskender ile Kahve Dünyası arasındaki mesafe 18.153225 m.\n",
      "HD İskender ile Newcastle arasındaki mesafe 26.126892 m.\n",
      "Leman Kültür ile Elizinn arasındaki mesafe 139.61447 m.\n",
      "Leman Kültür ile Brasserie Bomonti arasındaki mesafe 165.74629 m.\n",
      "Leman Kültür ile Mısır Cafe arasındaki mesafe 19.712626 m.\n",
      "Leman Kültür ile Kuğulu Park arasındaki mesafe 540.5455 m.\n",
      "Leman Kültür ile Seğmenler Park (Seğmenler Parkı) arasındaki mesafe 1234.8401 m.\n",
      "Huqqa ile Keifi arasındaki mesafe 1608.0273 m.\n",
      "Huqqa ile Marco Pascha arasındaki mesafe 446.9632 m.\n",
      "Huqqa ile Emirgan Sütiş arasındaki mesafe 407.19156 m.\n",
      "Huqqa ile Kahveci Hacıbaba arasındaki mesafe 452.4418 m.\n",
      "Huqqa ile Armada arasındaki mesafe 1817.0717 m.\n",
      "Öveçler Vadisi ile Taurus arasındaki mesafe 1779.0486 m.\n",
      "Öveçler Vadisi ile Kızılay Square (Kızılay Meydanı) arasındaki mesafe 3756.8013 m.\n",
      "Öveçler Vadisi ile Dikmen Vadisi arasındaki mesafe 1049.7942 m.\n",
      "Öveçler Vadisi ile Victoria arasındaki mesafe 331.9572 m.\n",
      "Öveçler Vadisi ile Ahmet Arif Parkı arasındaki mesafe 900.7983 m.\n"
     ]
    },
    {
     "data": {
      "text/plain": [
       "facts: org.apache.spark.rdd.RDD[String] = MapPartitionsRDD[35] at map at <console>:46\n"
      ]
     },
     "execution_count": 17,
     "metadata": {},
     "output_type": "execute_result"
    }
   ],
   "source": [
    "val facts: RDD[String] =\n",
    "  venuesgraph.triplets.map(triplet =>\n",
    "    triplet.srcAttr.Name + \" ile \" + triplet.dstAttr.Name+\" arasındaki mesafe \" + +triplet.attr + \" m.\" )\n",
    "facts.collect.foreach(println(_))"
   ]
  },
  {
   "cell_type": "markdown",
   "id": "failing-mouse",
   "metadata": {},
   "source": [
    "# PageRank"
   ]
  },
  {
   "cell_type": "markdown",
   "id": "smooth-reggae",
   "metadata": {},
   "source": [
    "### 1) PartitioningStrategy = RandomVertexCut"
   ]
  },
  {
   "cell_type": "code",
   "execution_count": 30,
   "id": "bibliographic-lecture",
   "metadata": {},
   "outputs": [
    {
     "data": {
      "text/plain": [
       "res13: org.apache.spark.graphx.Graph[Venues,Connection] = org.apache.spark.graphx.impl.GraphImpl@2eede35\n"
      ]
     },
     "execution_count": 30,
     "metadata": {},
     "output_type": "execute_result"
    }
   ],
   "source": [
    "venuesgraph.partitionBy(PartitionStrategy.RandomVertexCut)"
   ]
  },
  {
   "cell_type": "code",
   "execution_count": 31,
   "id": "white-lecture",
   "metadata": {},
   "outputs": [
    {
     "data": {
      "text/plain": [
       "ranks1: org.apache.spark.graphx.VertexRDD[Double] = VertexRDDImpl[6182] at RDD at VertexRDD.scala:57\n"
      ]
     },
     "execution_count": 31,
     "metadata": {},
     "output_type": "execute_result"
    }
   ],
   "source": [
    "val ranks1 = venuesgraph.pageRank(0.0001).vertices"
   ]
  },
  {
   "cell_type": "code",
   "execution_count": null,
   "id": "perfect-circle",
   "metadata": {},
   "outputs": [],
   "source": []
  },
  {
   "cell_type": "markdown",
   "id": "greek-bracelet",
   "metadata": {},
   "source": [
    "### 2) PartitioningStrategy = CanonicalRandomVertexCut"
   ]
  },
  {
   "cell_type": "code",
   "execution_count": 20,
   "id": "enclosed-helicopter",
   "metadata": {},
   "outputs": [
    {
     "data": {
      "text/plain": [
       "res7: org.apache.spark.graphx.Graph[Venues,Connection] = org.apache.spark.graphx.impl.GraphImpl@2b2dbba8\n"
      ]
     },
     "execution_count": 20,
     "metadata": {},
     "output_type": "execute_result"
    }
   ],
   "source": [
    "venuesgraph.partitionBy(PartitionStrategy.CanonicalRandomVertexCut)"
   ]
  },
  {
   "cell_type": "code",
   "execution_count": 21,
   "id": "charged-magnitude",
   "metadata": {},
   "outputs": [
    {
     "data": {
      "text/plain": [
       "ranks2: org.apache.spark.graphx.VertexRDD[Double] = VertexRDDImpl[2079] at RDD at VertexRDD.scala:57\n"
      ]
     },
     "execution_count": 21,
     "metadata": {},
     "output_type": "execute_result"
    }
   ],
   "source": [
    "val ranks2 = venuesgraph.pageRank(0.0001).vertices"
   ]
  },
  {
   "cell_type": "code",
   "execution_count": null,
   "id": "hispanic-speaking",
   "metadata": {},
   "outputs": [],
   "source": []
  },
  {
   "cell_type": "markdown",
   "id": "resistant-emperor",
   "metadata": {},
   "source": [
    "### 3) PartitioningStrategy = EdgePartition1D"
   ]
  },
  {
   "cell_type": "code",
   "execution_count": 22,
   "id": "assumed-queue",
   "metadata": {},
   "outputs": [
    {
     "data": {
      "text/plain": [
       "res8: org.apache.spark.graphx.Graph[Venues,Connection] = org.apache.spark.graphx.impl.GraphImpl@67bd06b7\n"
      ]
     },
     "execution_count": 22,
     "metadata": {},
     "output_type": "execute_result"
    }
   ],
   "source": [
    "venuesgraph.partitionBy(PartitionStrategy.EdgePartition1D)"
   ]
  },
  {
   "cell_type": "code",
   "execution_count": 23,
   "id": "fresh-photography",
   "metadata": {},
   "outputs": [
    {
     "data": {
      "text/plain": [
       "ranks3: org.apache.spark.graphx.VertexRDD[Double] = VertexRDDImpl[3102] at RDD at VertexRDD.scala:57\n"
      ]
     },
     "execution_count": 23,
     "metadata": {},
     "output_type": "execute_result"
    }
   ],
   "source": [
    "val ranks3 = venuesgraph.pageRank(0.0001).vertices"
   ]
  },
  {
   "cell_type": "code",
   "execution_count": null,
   "id": "motivated-japan",
   "metadata": {},
   "outputs": [],
   "source": []
  },
  {
   "cell_type": "markdown",
   "id": "adequate-pension",
   "metadata": {},
   "source": [
    "### 4) PartitioningStrategy = EdgePartition2D"
   ]
  },
  {
   "cell_type": "code",
   "execution_count": 24,
   "id": "neither-transaction",
   "metadata": {},
   "outputs": [
    {
     "data": {
      "text/plain": [
       "res9: org.apache.spark.graphx.Graph[Venues,Connection] = org.apache.spark.graphx.impl.GraphImpl@27235775\n"
      ]
     },
     "execution_count": 24,
     "metadata": {},
     "output_type": "execute_result"
    }
   ],
   "source": [
    "venuesgraph.partitionBy(PartitionStrategy.EdgePartition2D)"
   ]
  },
  {
   "cell_type": "code",
   "execution_count": 25,
   "id": "continental-navigator",
   "metadata": {},
   "outputs": [
    {
     "data": {
      "text/plain": [
       "ranks3: org.apache.spark.graphx.VertexRDD[Double] = VertexRDDImpl[4125] at RDD at VertexRDD.scala:57\n"
      ]
     },
     "execution_count": 25,
     "metadata": {},
     "output_type": "execute_result"
    }
   ],
   "source": [
    "val ranks4 = venuesgraph.pageRank(0.0001).vertices"
   ]
  },
  {
   "cell_type": "code",
   "execution_count": null,
   "id": "configured-beads",
   "metadata": {},
   "outputs": [],
   "source": []
  },
  {
   "cell_type": "markdown",
   "id": "increasing-organizer",
   "metadata": {},
   "source": [
    "### 5) PartitioningStrategy = New "
   ]
  },
  {
   "cell_type": "code",
   "execution_count": 28,
   "id": "invisible-vulnerability",
   "metadata": {},
   "outputs": [
    {
     "data": {
      "text/plain": [
       "res12: org.apache.spark.graphx.Graph[Venues,Connection] = org.apache.spark.graphx.impl.GraphImpl@2d1723d9\n"
      ]
     },
     "execution_count": 28,
     "metadata": {},
     "output_type": "execute_result"
    }
   ],
   "source": [
    "venuesgraph.partitionBy(\n",
    "  new PartitionStrategy {\n",
    "    // select distinct sources only\n",
    "    val capturedGraphData: Set[Long] = venuesgraph\n",
    "      .edges\n",
    "      .map(e => e.srcId)\n",
    "      .distinct()\n",
    "      .collect()\n",
    "      .toSet\n",
    "\n",
    "    override def getPartition(src: VertexId, dst: VertexId, numParts: PartitionID): PartitionID = {\n",
    "      if(capturedGraphData.contains(dst)) 0\n",
    "      else 1\n",
    "    }\n",
    "  }\n",
    ")\n"
   ]
  },
  {
   "cell_type": "code",
   "execution_count": 29,
   "id": "organic-registration",
   "metadata": {},
   "outputs": [
    {
     "data": {
      "text/plain": [
       "ranks5: org.apache.spark.graphx.VertexRDD[Double] = VertexRDDImpl[5159] at RDD at VertexRDD.scala:57\n"
      ]
     },
     "execution_count": 29,
     "metadata": {},
     "output_type": "execute_result"
    }
   ],
   "source": [
    "val ranks5 = venuesgraph.pageRank(0.0001).vertices"
   ]
  },
  {
   "cell_type": "code",
   "execution_count": null,
   "id": "upset-advertising",
   "metadata": {},
   "outputs": [],
   "source": []
  },
  {
   "cell_type": "markdown",
   "id": "separated-visit",
   "metadata": {},
   "source": [
    "### Ranks by Venue's Name"
   ]
  },
  {
   "cell_type": "code",
   "execution_count": 26,
   "id": "drawn-behavior",
   "metadata": {},
   "outputs": [
    {
     "name": "stdout",
     "output_type": "stream",
     "text": [
      "(Kızılay Square (Kızılay Meydanı),13.599011290335826)\n",
      "(ANKAmall,8.987377808294202)\n",
      "(Kızılay AVM,6.220624864775678)\n",
      "(Kahveci Hacıbaba,6.110454062983242)\n",
      "(Güvenpark,5.9162318606960635)\n",
      "(Ezgi Cafe,4.997005490396357)\n",
      "(Seğmenler Park (Seğmenler Parkı),4.723452796375306)\n",
      "(Kentpark,4.695524529050263)\n",
      "(Kuğulu Park,4.184787966983499)\n",
      "(Cepa,3.7242873091357063)\n",
      "(Özsüt,3.568926305450556)\n",
      "(Starbucks,3.568926305450556)\n",
      "(Cinemaximum,3.568926305450556)\n",
      "(Armada,3.47051621675922)\n",
      "(Timboo Cafe,3.408143591428786)\n",
      "(Starbucks,3.3908664922666434)\n",
      "(IF Performance Hall,2.9872315463589922)\n",
      "(Brasserie Bomonti,2.7468999206193314)\n",
      "(Prestige Cinema,2.598862531486412)\n",
      "(Passage,2.5238787103009153)\n",
      "(Timboo Cafe,2.4575423267767196)\n",
      "(Cinemaximum,2.375578341355078)\n",
      "(Devrez,2.3198514379890938)\n",
      "(Starbucks,2.313312289061767)\n",
      "(HD İskender,2.30588720342222)\n",
      "(Starbucks,2.234574316719174)\n",
      "(Mado,2.121430792538547)\n",
      "(Blackk Ankara,1.7319641717211292)\n",
      "(Karum,1.7088269412695063)\n",
      "(Leman Kültür,1.6376355436433265)\n",
      "(Mickey's by Las Chicas,1.6111010609003447)\n",
      "(Gordion,1.5391061279603078)\n",
      "(365,1.4642315401449946)\n",
      "(Marco Pascha,1.3020011820347173)\n",
      "(Starbucks,1.301139579730174)\n",
      "(Starbucks,1.2461931796966472)\n",
      "(Turuncu Cafe Pub,1.2056704624594319)\n",
      "(BARikaT #1538,1.1871001963919992)\n",
      "(Kahveci Hacıbaba,1.1745406011413062)\n",
      "(Starbucks,1.1668371311022834)\n",
      "(Toolbar,1.1403074205357047)\n",
      "(Rolling Ball Bowling,1.1243924177230156)\n",
      "(Cookshop,1.0915679168251118)\n",
      "(Cinemaximum,1.0915679168251118)\n",
      "(Starbucks,1.0915679168251118)\n",
      "(Telwe,1.0847908841499878)\n",
      "(Taurus,1.060743362037201)\n",
      "(BlackStation Pub,1.0581485382049756)\n",
      "(Eskiyeni,1.0541369955668325)\n",
      "(Starbucks,1.02974985031245)\n",
      "(Pool Pub,0.9946324603699778)\n",
      "(Kahve Dünyası,0.9929522248734426)\n",
      "(Cinemaximum,0.979496310588744)\n",
      "(Big Chefs,0.9743273808326338)\n",
      "(Atakule,0.9504893240106543)\n",
      "(Bla Bla Bistro Pub,0.9447764833917554)\n",
      "(Kıtır,0.9389649222615084)\n",
      "(Newcastle,0.9312041595303773)\n",
      "(Sunshine,0.8875756756494507)\n",
      "(Yıldız Aspava,0.8772227212067104)\n",
      "(Next Level,0.8701607181686579)\n",
      "(Öküz,0.8566186684222411)\n",
      "(Lozan Parkı,0.8466850764042504)\n",
      "(ODTÜ Tenis Kortları,0.8407828191855329)\n",
      "(Huqqa,0.823700803570197)\n",
      "(Puhu,0.8191602584940514)\n",
      "(Pool Pub,0.8131280310884577)\n",
      "(Hmbrgr - Homemade Burgers,0.8040469009561411)\n",
      "(Kahve Dünyası,0.782834464169739)\n",
      "(ANKAmall Teras,0.7780519606389263)\n",
      "(MACFit,0.7780519606389262)\n",
      "(Keifi,0.7736385317464778)\n",
      "(Köroğlu İşkembecisi,0.77052713792992)\n",
      "(Cinemarine,0.7626126324573135)\n",
      "(Starbucks,0.7626126324573135)\n",
      "(Liva Pastanesi,0.7626126324573135)\n",
      "(Susam,0.7570013001394773)\n",
      "(Kite Ankara,0.7523980187630699)\n",
      "(Gelato Ice & Caffé,0.7507275565752847)\n",
      "(Çatı Cafe,0.7480087768472049)\n",
      "(Most Life Club,0.747790435563139)\n",
      "(Beykoz Çorbacısı,0.7393437945452351)\n",
      "(Starbucks,0.7384195407997782)\n",
      "(Emirgan Sütiş,0.73234733703398)\n",
      "(Twister,0.6912890467911182)\n",
      "(Park Ehlikeyf,0.6911473751122506)\n",
      "(Atatürk Forest Farm (Atatürk Orman Çiftliği),0.6908143856371214)\n",
      "(Big Chefs,0.6815417690424672)\n",
      "(Big Chefs,0.6539655213664142)\n",
      "(Cinemaximum,0.6539655213664142)\n",
      "(Müjgan,0.6309081052105564)\n",
      "(Dikmen Vadisi,0.6189210944999973)\n",
      "(Mado,0.6131335176865634)\n",
      "(Meşhur Özçelik Aspava,0.6008074541928343)\n",
      "(Meşhur Mithatpaşa İşkembe & Kebapçısı,0.6003931995489986)\n",
      "(Dürüm Aspava,0.5840648560624944)\n",
      "(MACFit,0.5646007533358224)\n",
      "(Starbucks,0.5617658015310428)\n",
      "(Gençlik Parkı,0.5583299267887343)\n",
      "(Liva Pastanesi,0.5482136610623712)\n",
      "(Botanical Park (Botanik Parkı),0.5462601095654236)\n",
      "(Starbucks,0.5415857134336337)\n",
      "(Kocatepe Kahve Evi,0.5410312042878376)\n",
      "(ZeuS,0.533737303654191)\n",
      "(ODTÜ Çarşı,0.5285786840043236)\n",
      "(Arcadium,0.5099409340276292)\n",
      "(Starbucks,0.5089510622491205)\n",
      "(Timboo Cafe,0.5089510622491205)\n",
      "(Koliba,0.5075380140498169)\n",
      "(Elizinn,0.5029046675889262)\n",
      "(Kahve Dünyası,0.4950653902421142)\n",
      "(HD İskender,0.4825028506769904)\n",
      "(Barbella Cafe-Bar,0.4796303729812123)\n",
      "(Central Ankara,0.45844618374375584)\n",
      "(Doğata,0.45745489768221875)\n",
      "(Profesör Kokoreç,0.4528284888234882)\n",
      "(Mısır Cafe,0.44974620277479077)\n",
      "(MACFit,0.44535068041338294)\n",
      "(Luppa,0.44535068041338294)\n",
      "(City Hotel,0.4361479750776155)\n",
      "(Newcastle,0.4358714158404929)\n",
      "(Vakko,0.4350189739230474)\n",
      "(D&R,0.4341476522924319)\n",
      "(Ankara Şehir Kulübü,0.43338344625014463)\n",
      "(ODTÜ Black Ball,0.4314102412794957)\n",
      "(El Paso,0.43061435814867727)\n",
      "(La Gioia Cafe Brasserie,0.41929965811589415)\n",
      "(Park Center,0.41553552782119463)\n",
      "(Otto Lounge,0.4142692534311986)\n",
      "(Kurtuluş Parkı,0.4119614606608014)\n",
      "(Big Baker,0.40186745567539367)\n",
      "(Up Lost Pub & Performance,0.3962232270582907)\n",
      "(Ali Baba,0.3956127009496879)\n",
      "(Narquilla,0.3880629897830983)\n",
      "(Corvus,0.3875318631527638)\n",
      "(Köroğlu İşkembecisi,0.3708079661704748)\n",
      "(Albüm,0.3700616313015475)\n",
      "(The Bigos,0.3696819073551935)\n",
      "(Luigi's Ristorante Bar,0.3611049214931399)\n",
      "(Balkon Nargile,0.36041783821627954)\n",
      "(MACFit,0.35690181923928666)\n",
      "(Öveçler Vadisi,0.35519169581190246)\n",
      "(Escape,0.3547463936874291)\n",
      "(HD İskender,0.3516622623891127)\n",
      "(Ankara Arena,0.3514634266544336)\n",
      "(Nefes Bar,0.35052258701752403)\n",
      "(Bauhaus,0.3463779704674703)\n",
      "(Doyurucu,0.34157848341165997)\n",
      "(Migros,0.3376834190443003)\n",
      "(Mado,0.33529827610978813)\n",
      "(Arcadium Sinemaları,0.3321005241716277)\n",
      "(ÜstKat,0.3309435228296666)\n",
      "(Tren Ankara,0.32923560979385325)\n",
      "(Kahveci Hacıbaba,0.3247514594261228)\n",
      "(ODTÜ Kocatepe Kahve Evi,0.32222708849231013)\n",
      "(Klarnet Sahne,0.3169669605459807)\n",
      "(Café des Cafés,0.3130108857255328)\n",
      "(6:45 Kaybedenler Kulübü,0.3119615162228705)\n",
      "(Tchibo,0.3080039756100909)\n",
      "(Fox,0.30449757336958355)\n",
      "(Mascha,0.30449757336958355)\n",
      "(Lunapark,0.30415274458354796)\n",
      "(Ehlikeyf Plus,0.30297541445621146)\n",
      "(Vamos Sports Complex,0.30098400327242814)\n",
      "(Bolu Mangalzade,0.2984149666137905)\n",
      "(Hayat Bi Geyik,0.2950865211038969)\n",
      "(Tandoğan Square (Tandoğan Meydanı),0.2934496541918046)\n",
      "(Liva Pastanesi,0.29131102398819086)\n",
      "(Şençam Köftecisi,0.2887513458441563)\n",
      "(Özdemir Kokoreç,0.2887513458441563)\n",
      "(Godiva,0.2825141967480545)\n",
      "(Loop,0.281145136758163)\n",
      "(Meşhur Tavacı Recep Usta,0.2765211440040802)\n",
      "(Starbucks,0.27060851217401793)\n",
      "(Atatürk Kültür Merkezi,0.27034690676828255)\n",
      "(Bahçemiz,0.2668189914275375)\n",
      "(Kocatepe Kahve Evi,0.26493535159678705)\n",
      "(Adana Sofrası,0.26397666226249705)\n",
      "(Urfalı Hacı Mehmet Kebap,0.26397666226249705)\n",
      "(Mado,0.25803100598449147)\n",
      "(Timboo Cafe,0.25803100598449147)\n",
      "(Karikatür Bi Kafe,0.2575409320020591)\n",
      "(Budakaltı,0.24542316658331537)\n",
      "(Kahve Dünyası,0.2451111935590328)\n",
      "(Makara,0.24467661963308823)\n",
      "(Louise Brasserie & Lounge,0.24258460673035143)\n",
      "(Nusr-Et Steakhouse,0.24258460673035143)\n",
      "(Meşhur Özçelik Aspava,0.241536742774104)\n",
      "(Nefti,0.2396411702300473)\n",
      "(Nil Bar,0.23865478505830798)\n",
      "(Aslanlı Yol,0.23644150605477743)\n",
      "(OT,0.23414392230076292)\n",
      "(Ahmet Arif Parkı,0.23168262173241666)\n",
      "(Victoria,0.23168262173241666)\n",
      "(Checkpoint Terrace,0.23161968635828892)\n",
      "(Salata,0.23161968635828892)\n",
      "(May 19 Stadium (19 Mayıs Stadyumu),0.2310875352135541)\n",
      "(Hasbihal Yıldız,0.227386491388557)\n",
      "(Angora Pastanesi,0.227386491388557)\n",
      "(Figen Pastaneleri,0.22649628524283863)\n",
      "(Pixel,0.2243301020860917)\n",
      "(H&M,0.22365228986543623)\n",
      "(Nostalji Cafe,0.2230490830362687)\n",
      "(Kahve Adası,0.2214269898024059)\n",
      "(Kahveci Paşazade,0.21634524009631761)\n",
      "(Gaga Manjero,0.2125258525494495)\n",
      "(Atatürk ve Kurtuluş Savaşı Müzesi,0.21154043230446806)\n",
      "(Meto Dondurma,0.21068892430009015)\n",
      "(Combo Lunch,0.21068892430009015)\n",
      "(Hudaverdi Pasta&Bistro,0.21068892430009015)\n",
      "(Kırık Oklava,0.20979271475012742)\n",
      "(Zara,0.20931284263552133)\n",
      "(Cafe Bien,0.20741467779342312)\n",
      "(Umumi,0.20652162876690683)\n",
      "(Siyah Beyaz,0.20652162876690683)\n",
      "(Anıtkabir,0.171353648396179)\n",
      "(Middle East Technical University (Orta Doğu Teknik Üniversitesi),0.171353648396179)\n"
     ]
    },
    {
     "data": {
      "text/plain": [
       "ranksByUsername: org.apache.spark.rdd.RDD[(String, Double)] = MapPartitionsRDD[4138] at sortBy at <console>:50\n"
      ]
     },
     "execution_count": 26,
     "metadata": {},
     "output_type": "execute_result"
    }
   ],
   "source": [
    "val ranksByUsername = venuesRDD.join(EdgePartition2Dranks1).map{\n",
    "  case (x,(y,z)) => (y.Name, z)\n",
    "}\n",
    ".sortBy(_._2,ascending=false)\n",
    "\n",
    "println(ranksByUsername.collect().mkString(\"\\n\"))"
   ]
  },
  {
   "cell_type": "code",
   "execution_count": null,
   "id": "similar-benjamin",
   "metadata": {},
   "outputs": [],
   "source": []
  },
  {
   "cell_type": "code",
   "execution_count": null,
   "id": "attempted-graduation",
   "metadata": {},
   "outputs": [],
   "source": []
  },
  {
   "cell_type": "code",
   "execution_count": null,
   "id": "signed-ranking",
   "metadata": {},
   "outputs": [],
   "source": []
  }
 ],
 "metadata": {
  "kernelspec": {
   "display_name": "spylon-kernel",
   "language": "scala",
   "name": "spylon-kernel"
  },
  "language_info": {
   "codemirror_mode": "text/x-scala",
   "file_extension": ".scala",
   "help_links": [
    {
     "text": "MetaKernel Magics",
     "url": "https://metakernel.readthedocs.io/en/latest/source/README.html"
    }
   ],
   "mimetype": "text/x-scala",
   "name": "scala",
   "pygments_lexer": "scala",
   "version": "0.4.1"
  }
 },
 "nbformat": 4,
 "nbformat_minor": 5
}
